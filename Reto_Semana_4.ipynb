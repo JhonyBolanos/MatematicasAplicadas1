{
  "nbformat": 4,
  "nbformat_minor": 0,
  "metadata": {
    "colab": {
      "provenance": [],
      "authorship_tag": "ABX9TyN0OQss2DJVYh98RGqNVEw+",
      "include_colab_link": true
    },
    "kernelspec": {
      "name": "python3",
      "display_name": "Python 3"
    },
    "language_info": {
      "name": "python"
    }
  },
  "cells": [
    {
      "cell_type": "markdown",
      "metadata": {
        "id": "view-in-github",
        "colab_type": "text"
      },
      "source": [
        "<a href=\"https://colab.research.google.com/github/JhonyBolanos/MatematicasAplicadas1/blob/main/Reto_Semana_4.ipynb\" target=\"_parent\"><img src=\"https://colab.research.google.com/assets/colab-badge.svg\" alt=\"Open In Colab\"/></a>"
      ]
    },
    {
      "cell_type": "code",
      "execution_count": null,
      "metadata": {
        "id": "T-DZfgNIhFg-"
      },
      "outputs": [],
      "source": [
        "import numpy as np"
      ]
    },
    {
      "cell_type": "code",
      "source": [
        "np.identity(8)"
      ],
      "metadata": {
        "colab": {
          "base_uri": "https://localhost:8080/"
        },
        "id": "SkP1eZ5KpGGp",
        "outputId": "b05dbbed-3047-42fd-cd23-f19084c3f85e"
      },
      "execution_count": null,
      "outputs": [
        {
          "output_type": "execute_result",
          "data": {
            "text/plain": [
              "array([[1., 0., 0., 0., 0., 0., 0., 0.],\n",
              "       [0., 1., 0., 0., 0., 0., 0., 0.],\n",
              "       [0., 0., 1., 0., 0., 0., 0., 0.],\n",
              "       [0., 0., 0., 1., 0., 0., 0., 0.],\n",
              "       [0., 0., 0., 0., 1., 0., 0., 0.],\n",
              "       [0., 0., 0., 0., 0., 1., 0., 0.],\n",
              "       [0., 0., 0., 0., 0., 0., 1., 0.],\n",
              "       [0., 0., 0., 0., 0., 0., 0., 1.]])"
            ]
          },
          "metadata": {},
          "execution_count": 7
        }
      ]
    },
    {
      "cell_type": "code",
      "source": [
        "np.linspace(0,1,200)"
      ],
      "metadata": {
        "colab": {
          "base_uri": "https://localhost:8080/"
        },
        "id": "Nedd0_x2sSzI",
        "outputId": "298336f8-3842-4369-dba2-cf01488c075b"
      },
      "execution_count": null,
      "outputs": [
        {
          "output_type": "execute_result",
          "data": {
            "text/plain": [
              "array([0.        , 0.00502513, 0.01005025, 0.01507538, 0.0201005 ,\n",
              "       0.02512563, 0.03015075, 0.03517588, 0.04020101, 0.04522613,\n",
              "       0.05025126, 0.05527638, 0.06030151, 0.06532663, 0.07035176,\n",
              "       0.07537688, 0.08040201, 0.08542714, 0.09045226, 0.09547739,\n",
              "       0.10050251, 0.10552764, 0.11055276, 0.11557789, 0.12060302,\n",
              "       0.12562814, 0.13065327, 0.13567839, 0.14070352, 0.14572864,\n",
              "       0.15075377, 0.15577889, 0.16080402, 0.16582915, 0.17085427,\n",
              "       0.1758794 , 0.18090452, 0.18592965, 0.19095477, 0.1959799 ,\n",
              "       0.20100503, 0.20603015, 0.21105528, 0.2160804 , 0.22110553,\n",
              "       0.22613065, 0.23115578, 0.2361809 , 0.24120603, 0.24623116,\n",
              "       0.25125628, 0.25628141, 0.26130653, 0.26633166, 0.27135678,\n",
              "       0.27638191, 0.28140704, 0.28643216, 0.29145729, 0.29648241,\n",
              "       0.30150754, 0.30653266, 0.31155779, 0.31658291, 0.32160804,\n",
              "       0.32663317, 0.33165829, 0.33668342, 0.34170854, 0.34673367,\n",
              "       0.35175879, 0.35678392, 0.36180905, 0.36683417, 0.3718593 ,\n",
              "       0.37688442, 0.38190955, 0.38693467, 0.3919598 , 0.39698492,\n",
              "       0.40201005, 0.40703518, 0.4120603 , 0.41708543, 0.42211055,\n",
              "       0.42713568, 0.4321608 , 0.43718593, 0.44221106, 0.44723618,\n",
              "       0.45226131, 0.45728643, 0.46231156, 0.46733668, 0.47236181,\n",
              "       0.47738693, 0.48241206, 0.48743719, 0.49246231, 0.49748744,\n",
              "       0.50251256, 0.50753769, 0.51256281, 0.51758794, 0.52261307,\n",
              "       0.52763819, 0.53266332, 0.53768844, 0.54271357, 0.54773869,\n",
              "       0.55276382, 0.55778894, 0.56281407, 0.5678392 , 0.57286432,\n",
              "       0.57788945, 0.58291457, 0.5879397 , 0.59296482, 0.59798995,\n",
              "       0.60301508, 0.6080402 , 0.61306533, 0.61809045, 0.62311558,\n",
              "       0.6281407 , 0.63316583, 0.63819095, 0.64321608, 0.64824121,\n",
              "       0.65326633, 0.65829146, 0.66331658, 0.66834171, 0.67336683,\n",
              "       0.67839196, 0.68341709, 0.68844221, 0.69346734, 0.69849246,\n",
              "       0.70351759, 0.70854271, 0.71356784, 0.71859296, 0.72361809,\n",
              "       0.72864322, 0.73366834, 0.73869347, 0.74371859, 0.74874372,\n",
              "       0.75376884, 0.75879397, 0.7638191 , 0.76884422, 0.77386935,\n",
              "       0.77889447, 0.7839196 , 0.78894472, 0.79396985, 0.79899497,\n",
              "       0.8040201 , 0.80904523, 0.81407035, 0.81909548, 0.8241206 ,\n",
              "       0.82914573, 0.83417085, 0.83919598, 0.84422111, 0.84924623,\n",
              "       0.85427136, 0.85929648, 0.86432161, 0.86934673, 0.87437186,\n",
              "       0.87939698, 0.88442211, 0.88944724, 0.89447236, 0.89949749,\n",
              "       0.90452261, 0.90954774, 0.91457286, 0.91959799, 0.92462312,\n",
              "       0.92964824, 0.93467337, 0.93969849, 0.94472362, 0.94974874,\n",
              "       0.95477387, 0.95979899, 0.96482412, 0.96984925, 0.97487437,\n",
              "       0.9798995 , 0.98492462, 0.98994975, 0.99497487, 1.        ])"
            ]
          },
          "metadata": {},
          "execution_count": 10
        }
      ]
    },
    {
      "cell_type": "code",
      "source": [
        "Vector = np.array([1,1,1])\n",
        "mat = np.diag(Vector)\n",
        "print(mat)"
      ],
      "metadata": {
        "colab": {
          "base_uri": "https://localhost:8080/"
        },
        "id": "GPdG5hgep0dB",
        "outputId": "26e36b2d-fbdb-44b3-e8f5-c3a91f9b173c"
      },
      "execution_count": null,
      "outputs": [
        {
          "output_type": "stream",
          "name": "stdout",
          "text": [
            "[[1 0 0]\n",
            " [0 1 0]\n",
            " [0 0 1]]\n"
          ]
        }
      ]
    },
    {
      "cell_type": "code",
      "source": [
        "import math as mt\n",
        "mt.log10(100)"
      ],
      "metadata": {
        "colab": {
          "base_uri": "https://localhost:8080/"
        },
        "id": "rEjkaqGfhUir",
        "outputId": "0d0e9552-5c44-4fe3-b907-03bb6d18a67c"
      },
      "execution_count": null,
      "outputs": [
        {
          "output_type": "execute_result",
          "data": {
            "text/plain": [
              "2.0"
            ]
          },
          "metadata": {},
          "execution_count": 6
        }
      ]
    },
    {
      "cell_type": "code",
      "source": [
        "import matplotlib.pyplot as plt"
      ],
      "metadata": {
        "id": "sOdMu6ZtidRY"
      },
      "execution_count": null,
      "outputs": []
    },
    {
      "cell_type": "markdown",
      "source": [
        "**Array es un Vector**\n",
        "> Conjuntos ordenados que cumples las caracteristicas siguientes:\n",
        "1. Dirección\n",
        "2. Sentido\n",
        "3. Magnitud\n"
      ],
      "metadata": {
        "id": "plsu8lg_kXdf"
      }
    },
    {
      "cell_type": "markdown",
      "source": [
        "#FUNCION EN PYTHON"
      ],
      "metadata": {
        "id": "HvbWVL7wvPQ5"
      }
    },
    {
      "cell_type": "code",
      "source": [
        "def name(arumentos):\n",
        "  return function"
      ],
      "metadata": {
        "id": "UdwrrC9VvSQ8"
      },
      "execution_count": null,
      "outputs": []
    },
    {
      "cell_type": "markdown",
      "source": [
        "#**While**"
      ],
      "metadata": {
        "id": "TGwkekjJkpXi"
      }
    },
    {
      "cell_type": "code",
      "source": [
        "i = 0\n",
        "while i < 10:\n",
        "  i+= 1\n",
        "  print(i)"
      ],
      "metadata": {
        "colab": {
          "base_uri": "https://localhost:8080/"
        },
        "id": "oKwy99REkomR",
        "outputId": "814eb7a7-5924-4e1d-ac46-33b9242efefe"
      },
      "execution_count": null,
      "outputs": [
        {
          "output_type": "stream",
          "name": "stdout",
          "text": [
            "1\n",
            "2\n",
            "3\n",
            "4\n",
            "5\n",
            "6\n",
            "7\n",
            "8\n",
            "9\n",
            "10\n"
          ]
        }
      ]
    },
    {
      "cell_type": "code",
      "source": [
        "# @title Texto de título predeterminado\n"
      ],
      "metadata": {
        "id": "DwTsoEd4q3bb"
      },
      "execution_count": null,
      "outputs": []
    }
  ]
}