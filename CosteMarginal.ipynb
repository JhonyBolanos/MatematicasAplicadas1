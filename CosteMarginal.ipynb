{
  "nbformat": 4,
  "nbformat_minor": 0,
  "metadata": {
    "colab": {
      "provenance": [],
      "authorship_tag": "ABX9TyM7y/JU15WaEfGwIsn2L51B",
      "include_colab_link": true
    },
    "kernelspec": {
      "name": "python3",
      "display_name": "Python 3"
    },
    "language_info": {
      "name": "python"
    }
  },
  "cells": [
    {
      "cell_type": "markdown",
      "metadata": {
        "id": "view-in-github",
        "colab_type": "text"
      },
      "source": [
        "<a href=\"https://colab.research.google.com/github/JhonyBolanos/MatematicasAplicadas1/blob/main/CosteMarginal.ipynb\" target=\"_parent\"><img src=\"https://colab.research.google.com/assets/colab-badge.svg\" alt=\"Open In Colab\"/></a>"
      ]
    },
    {
      "cell_type": "markdown",
      "source": [
        "## **COSTE MARGINAL**"
      ],
      "metadata": {
        "id": "15QdriFA2eye"
      }
    },
    {
      "cell_type": "markdown",
      "source": [
        "## ***Dadas las funciones***\n",
        "Precio $P(x)=5.00-0.002x$\n",
        "\n",
        "Costo $C(x)=3.00+1.10x$\n",
        "\n",
        "## ***Totales***\n",
        "\n",
        "**Ingreso Total $R(x)$**\n",
        "\n",
        "$R(x)=P(x)\\times x=(5.00-0.002x)\\times x=5.00x-0.002x^{2}$\n",
        "\n",
        "------------------------------------------------------------\n",
        "\n",
        "**Costo Total $C(x)$**\n",
        "\n",
        "$C(x)=3.00+1.10x$\n",
        "\n",
        "------------------------------------------------------------\n",
        "\n",
        "**Utilidad Total $U(u)$**\n",
        "\n",
        "$U(x)=R(x)-C(x)=(5.00x-0.002x^{2})-(3.00+1.10x)$\n",
        "$U(x)=5.00x-0.002x^{2}-3.00-1.10x=-0.002x^{2}+3.90x-3.00$\n",
        "\n",
        "------------------------------------------------------------\n",
        "\n",
        "## ***Ingreso, Costo y Utilidad Marginal***\n",
        "\n",
        "**Ingreso Marginal $R'(x)$**\n",
        "\n",
        "$R'(x)=\\frac{d }{dx}(5.00x-0.002x^{2})=5.00-0.004x$\n",
        "\n",
        "------------------------------------------------------------\n",
        "\n",
        "**Costo Marginal $C'(x)$**\n",
        "\n",
        "$C'(x)=\\frac{d }{dx}(3.00+1.10x)=1.10$\n",
        "\n",
        "------------------------------------------------------------\n",
        "\n",
        "**Utilidad Marginal $U'(x)$**\n",
        "\n",
        "$U'(x)=\\frac{d }{dx}(−0.002x^{2}+3.90x−3.00)=−0.004x+3.90$\n",
        "\n",
        "------------------------------------------------------------\n",
        "\n",
        "- ## ***Nivel de producción que produciría la máxima utilidad total***\n",
        "\n",
        "Se iguala la Utilidad Marginal $U'(x)$ a $0$ y se resuelve en $x$\n",
        "\n",
        "$-0.004x+3.90=0$\n",
        "\n",
        "$0.004x=3.90$\n",
        "\n",
        "$x=\\frac{3.90}{0.004}=975$\n",
        "\n",
        "- ## ***Respuestas***\n",
        "\n",
        "Ingreso Marginal:\n",
        "\n",
        "$R'(x)=5.00-0.004x$\n",
        "\n",
        "Costo Marginal:\n",
        "\n",
        "$C'(x)=1.10$\n",
        "\n",
        "Utilidad Marginal:\n",
        "\n",
        "$U'(x)=−0.004x+3.90$\n",
        "\n",
        "Nivel de producción para máxima utilidad:\n",
        "\n",
        "$x=975$ unidades"
      ],
      "metadata": {
        "id": "s5VqQxF33Pv6"
      }
    }
  ]
}