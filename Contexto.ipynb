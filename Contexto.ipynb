{
  "nbformat": 4,
  "nbformat_minor": 0,
  "metadata": {
    "colab": {
      "provenance": [],
      "authorship_tag": "ABX9TyO7t+ztmSSzKKYkKmyQDz+y",
      "include_colab_link": true
    },
    "kernelspec": {
      "name": "python3",
      "display_name": "Python 3"
    },
    "language_info": {
      "name": "python"
    }
  },
  "cells": [
    {
      "cell_type": "markdown",
      "metadata": {
        "id": "view-in-github",
        "colab_type": "text"
      },
      "source": [
        "<a href=\"https://colab.research.google.com/github/JhonyBolanos/MatematicasAplicadas1/blob/main/Contexto.ipynb\" target=\"_parent\"><img src=\"https://colab.research.google.com/assets/colab-badge.svg\" alt=\"Open In Colab\"/></a>"
      ]
    },
    {
      "cell_type": "markdown",
      "source": [
        "#**Propulsión de Cohetes**\n",
        "\n",
        "Considerar el problema de propulsión de cohetes. Considérese que un cohete despega en línea recta hacia arriba desde la superficie de la Tierra en el tiempo $t = 0$. Se desea calcular su altura y y su velocidad $v$ en el tiempo $t$. El cohete es impulsado por la expulsión de gases que salen (hacia atrás) con velocidad constante $c$ (en relación con el artefacto). Debido a la quema de su combustible, la masa $m(t)$ del cohete es variable.\n",
        "\n",
        "###**Contexto**\n",
        "\n",
        "\n",
        "Una agencia espacial está probando un nuevo cohete de una sola etapa que despega verticalmente desde la Tierra. El cohete tiene una masa inicial de $5000 kg$, incluyendo su combustible, y expulsa gases a una velocidad de $2500 m/s$ en relaci ́on con el cohete. El cohete quema su combustible a una tasa constante de $50 kg/s$.\n",
        "\n",
        "> $a)$ ¿Cuál será la velocidad del cohete después de $30$ segundos, suponiendo que la resistencia del aire es despreciable y la gravedad terrestre es $9.81 m/s^{2}$?\n",
        "\n",
        ">>$R//$\n",
        "\n",
        ">>$m_{0}=5000kg$\n",
        "\n",
        ">>$V_{g}=2500\\frac{m}{s}$\n",
        "\n",
        ">>$\\text{Tasa constante de quema de combustible} = 50 \\frac{kg}{s}$\n",
        "\n",
        ">>$t= 30 s$\n",
        "\n",
        ">>$\\text{Resistencia} \\to k=0$\n",
        "\n",
        ">>$g = 9.81\\frac{m}{s^{2}}$\n",
        "\n",
        "---------------------------------\n",
        "\n",
        ">>$\\text{Ecuación}$\n",
        "\n",
        ">>$v(t) = v_{0} - gt + cln \\times \\frac{m_{0}}{m_{0} - \\beta t}$\n",
        "\n",
        ">>$\\text{Reemplazamos}$\n",
        "\n",
        ">>$v(30) = -(9.81)(30)+2500ln\\frac{5000}{5000-50(30)}$\n",
        "\n",
        ">>$v(30) = -294.3\\frac{m}{s}+2500(0.3567)$\n",
        "\n",
        ">>$v(30) = -294.3\\frac{m}{s}+891.75$\n",
        "\n",
        ">>$v(30) = 597.45\\frac{m}{s}$\n",
        "\n",
        "\n",
        "\n",
        "\n",
        "\n",
        "\n",
        "\n",
        "\n",
        "\n",
        "\n"
      ],
      "metadata": {
        "id": "xIXUcH_QaVGc"
      }
    },
    {
      "cell_type": "code",
      "source": [
        "import numpy as np\n",
        "import plotly.express as px\n",
        "import plotly.graph_objects as go\n",
        "\n",
        "def v(t, g=9.81, v_g=2500, m0=5000, beta=50):\n",
        "    return -g*t + v_g * np.log(m0 / (m0 - beta * t))\n",
        "\n",
        "t_values = np.linspace(0, 30, 100)\n",
        "v_values = v(t_values)\n",
        "\n",
        "fig = go.Figure()\n",
        "\n",
        "fig.add_trace(go.Scatter(x=t_values, y=v_values, mode='lines', name='Velocidad del cohete'))\n",
        "\n",
        "v_30 = v(30)\n",
        "fig.add_trace(go.Scatter(x=[30], y=[v_30], mode='markers', marker=dict(color='red', size=10),\n",
        "                         name=f'v(30) = {v_30:.1f} m/s'))\n",
        "\n",
        "fig.update_layout(\n",
        "    title='Velocidad del cohete en función del tiempo',\n",
        "    xaxis_title='Tiempo (s)',\n",
        "    yaxis_title='Velocidad (m/s)',\n",
        "    hovermode=\"x\",\n",
        "    template=\"plotly_white\"\n",
        ")\n",
        "\n",
        "fig.show()\n",
        "\n",
        "\n"
      ],
      "metadata": {
        "colab": {
          "base_uri": "https://localhost:8080/",
          "height": 542
        },
        "id": "0x7rKjvYYkmp",
        "outputId": "2d6f9e82-88b0-484a-eab5-31601efdc0b7"
      },
      "execution_count": 8,
      "outputs": [
        {
          "output_type": "display_data",
          "data": {
            "text/html": [
              "<html>\n",
              "<head><meta charset=\"utf-8\" /></head>\n",
              "<body>\n",
              "    <div>            <script src=\"https://cdnjs.cloudflare.com/ajax/libs/mathjax/2.7.5/MathJax.js?config=TeX-AMS-MML_SVG\"></script><script type=\"text/javascript\">if (window.MathJax && window.MathJax.Hub && window.MathJax.Hub.Config) {window.MathJax.Hub.Config({SVG: {font: \"STIX-Web\"}});}</script>                <script type=\"text/javascript\">window.PlotlyConfig = {MathJaxConfig: 'local'};</script>\n",
              "        <script charset=\"utf-8\" src=\"https://cdn.plot.ly/plotly-2.35.2.min.js\"></script>                <div id=\"273dd47a-58e4-4021-a5ed-c5566157f19d\" class=\"plotly-graph-div\" style=\"height:525px; width:100%;\"></div>            <script type=\"text/javascript\">                                    window.PLOTLYENV=window.PLOTLYENV || {};                                    if (document.getElementById(\"273dd47a-58e4-4021-a5ed-c5566157f19d\")) {                    Plotly.newPlot(                        \"273dd47a-58e4-4021-a5ed-c5566157f19d\",                        [{\"mode\":\"lines\",\"name\":\"Velocidad del cohete\",\"x\":[0.0,0.30303030303030304,0.6060606060606061,0.9090909090909092,1.2121212121212122,1.5151515151515151,1.8181818181818183,2.121212121212121,2.4242424242424243,2.7272727272727275,3.0303030303030303,3.3333333333333335,3.6363636363636367,3.9393939393939394,4.242424242424242,4.545454545454546,4.848484848484849,5.151515151515151,5.454545454545455,5.757575757575758,6.0606060606060606,6.363636363636364,6.666666666666667,6.96969696969697,7.272727272727273,7.575757575757576,7.878787878787879,8.181818181818182,8.484848484848484,8.787878787878789,9.090909090909092,9.393939393939394,9.696969696969697,10.0,10.303030303030303,10.606060606060606,10.90909090909091,11.212121212121213,11.515151515151516,11.818181818181818,12.121212121212121,12.424242424242424,12.727272727272728,13.030303030303031,13.333333333333334,13.636363636363637,13.93939393939394,14.242424242424242,14.545454545454547,14.84848484848485,15.151515151515152,15.454545454545455,15.757575757575758,16.060606060606062,16.363636363636363,16.666666666666668,16.96969696969697,17.272727272727273,17.575757575757578,17.87878787878788,18.181818181818183,18.484848484848484,18.78787878787879,19.09090909090909,19.393939393939394,19.6969696969697,20.0,20.303030303030305,20.606060606060606,20.90909090909091,21.21212121212121,21.515151515151516,21.81818181818182,22.12121212121212,22.424242424242426,22.727272727272727,23.03030303030303,23.333333333333336,23.636363636363637,23.93939393939394,24.242424242424242,24.545454545454547,24.848484848484848,25.151515151515152,25.454545454545457,25.757575757575758,26.060606060606062,26.363636363636363,26.666666666666668,26.96969696969697,27.272727272727273,27.575757575757578,27.87878787878788,28.181818181818183,28.484848484848484,28.78787878787879,29.090909090909093,29.393939393939394,29.6969696969697,30.0],\"y\":[0.0,4.61453196515745,9.252160645500936,13.913027089999362,18.597273643636967,23.305043963334583,28.0364830341279,32.791737185582605,37.57095410847596,42.37428287172941,47.20187393961149,52.05387918920354,56.93045192814541,61.83174691265864,66.75792036585273,71.70912999632316,76.685535017045,81.6872961645685,86.71457571851802,91.76753752141143,96.84634699878936,101.95117117967834,107.08217871737855,112.2395399105942,117.42342672490868,122.63401281460413,127.87147354485144,133.13598601425576,138.42772907777714,143.74688337003423,149.09363132899415,154.46815722005363,159.87064716053106,165.30128914456583,170.76027306843673,176.24779075631045,181.76403598642926,187.30920451773767,192.88349411697422,198.48710458621986,204.1202377909247,209.7830976884161,215.4758903569043,221.19882402498948,226.95210910168356,232.73595820696133,238.55058620284512,244.39621022503903,250.27304971512174,256.18132645331394,262.1212645918272,268.09309068881,274.0970337429038,280.13332522842313,286.20219913116705,292.3038919848865,298.4386429084119,304.6066936434612,310.80828859313993,317.04367486115325,323.3131022917412,329.61682351035324,335.95509396508237,342.32817196887265,348.7363187425216,355.1797984584864,361.65887828552434,368.17382843417585,374.7249222031181,381.3124360263995,387.9366495215862,394.59784553883424,401.29631021090773,408.03233300417423,414.8062067705904,421.6182278007037,428.46869587770044,435.3579143325141,442.2861901000292,449.25383377640037,456.26115967751707,463.30848589863643,470.3961343752228,477.524430945008,484.69370541131696,491.904291607679,499.1565274637648,506.450755072671,513.787320759599,521.1665751519502,528.5888732508822,536.0545745043567,543.5640428817188,551.1176469498502,558.7157599509258,566.3587598818265,574.0470295752432,581.7809567825182,589.5609342582674,597.387359846831],\"type\":\"scatter\"},{\"marker\":{\"color\":\"red\",\"size\":10},\"mode\":\"markers\",\"name\":\"v(30) = 597.4 m\\u002fs\",\"x\":[30],\"y\":[597.387359846831],\"type\":\"scatter\"}],                        {\"template\":{\"data\":{\"barpolar\":[{\"marker\":{\"line\":{\"color\":\"white\",\"width\":0.5},\"pattern\":{\"fillmode\":\"overlay\",\"size\":10,\"solidity\":0.2}},\"type\":\"barpolar\"}],\"bar\":[{\"error_x\":{\"color\":\"#2a3f5f\"},\"error_y\":{\"color\":\"#2a3f5f\"},\"marker\":{\"line\":{\"color\":\"white\",\"width\":0.5},\"pattern\":{\"fillmode\":\"overlay\",\"size\":10,\"solidity\":0.2}},\"type\":\"bar\"}],\"carpet\":[{\"aaxis\":{\"endlinecolor\":\"#2a3f5f\",\"gridcolor\":\"#C8D4E3\",\"linecolor\":\"#C8D4E3\",\"minorgridcolor\":\"#C8D4E3\",\"startlinecolor\":\"#2a3f5f\"},\"baxis\":{\"endlinecolor\":\"#2a3f5f\",\"gridcolor\":\"#C8D4E3\",\"linecolor\":\"#C8D4E3\",\"minorgridcolor\":\"#C8D4E3\",\"startlinecolor\":\"#2a3f5f\"},\"type\":\"carpet\"}],\"choropleth\":[{\"colorbar\":{\"outlinewidth\":0,\"ticks\":\"\"},\"type\":\"choropleth\"}],\"contourcarpet\":[{\"colorbar\":{\"outlinewidth\":0,\"ticks\":\"\"},\"type\":\"contourcarpet\"}],\"contour\":[{\"colorbar\":{\"outlinewidth\":0,\"ticks\":\"\"},\"colorscale\":[[0.0,\"#0d0887\"],[0.1111111111111111,\"#46039f\"],[0.2222222222222222,\"#7201a8\"],[0.3333333333333333,\"#9c179e\"],[0.4444444444444444,\"#bd3786\"],[0.5555555555555556,\"#d8576b\"],[0.6666666666666666,\"#ed7953\"],[0.7777777777777778,\"#fb9f3a\"],[0.8888888888888888,\"#fdca26\"],[1.0,\"#f0f921\"]],\"type\":\"contour\"}],\"heatmapgl\":[{\"colorbar\":{\"outlinewidth\":0,\"ticks\":\"\"},\"colorscale\":[[0.0,\"#0d0887\"],[0.1111111111111111,\"#46039f\"],[0.2222222222222222,\"#7201a8\"],[0.3333333333333333,\"#9c179e\"],[0.4444444444444444,\"#bd3786\"],[0.5555555555555556,\"#d8576b\"],[0.6666666666666666,\"#ed7953\"],[0.7777777777777778,\"#fb9f3a\"],[0.8888888888888888,\"#fdca26\"],[1.0,\"#f0f921\"]],\"type\":\"heatmapgl\"}],\"heatmap\":[{\"colorbar\":{\"outlinewidth\":0,\"ticks\":\"\"},\"colorscale\":[[0.0,\"#0d0887\"],[0.1111111111111111,\"#46039f\"],[0.2222222222222222,\"#7201a8\"],[0.3333333333333333,\"#9c179e\"],[0.4444444444444444,\"#bd3786\"],[0.5555555555555556,\"#d8576b\"],[0.6666666666666666,\"#ed7953\"],[0.7777777777777778,\"#fb9f3a\"],[0.8888888888888888,\"#fdca26\"],[1.0,\"#f0f921\"]],\"type\":\"heatmap\"}],\"histogram2dcontour\":[{\"colorbar\":{\"outlinewidth\":0,\"ticks\":\"\"},\"colorscale\":[[0.0,\"#0d0887\"],[0.1111111111111111,\"#46039f\"],[0.2222222222222222,\"#7201a8\"],[0.3333333333333333,\"#9c179e\"],[0.4444444444444444,\"#bd3786\"],[0.5555555555555556,\"#d8576b\"],[0.6666666666666666,\"#ed7953\"],[0.7777777777777778,\"#fb9f3a\"],[0.8888888888888888,\"#fdca26\"],[1.0,\"#f0f921\"]],\"type\":\"histogram2dcontour\"}],\"histogram2d\":[{\"colorbar\":{\"outlinewidth\":0,\"ticks\":\"\"},\"colorscale\":[[0.0,\"#0d0887\"],[0.1111111111111111,\"#46039f\"],[0.2222222222222222,\"#7201a8\"],[0.3333333333333333,\"#9c179e\"],[0.4444444444444444,\"#bd3786\"],[0.5555555555555556,\"#d8576b\"],[0.6666666666666666,\"#ed7953\"],[0.7777777777777778,\"#fb9f3a\"],[0.8888888888888888,\"#fdca26\"],[1.0,\"#f0f921\"]],\"type\":\"histogram2d\"}],\"histogram\":[{\"marker\":{\"pattern\":{\"fillmode\":\"overlay\",\"size\":10,\"solidity\":0.2}},\"type\":\"histogram\"}],\"mesh3d\":[{\"colorbar\":{\"outlinewidth\":0,\"ticks\":\"\"},\"type\":\"mesh3d\"}],\"parcoords\":[{\"line\":{\"colorbar\":{\"outlinewidth\":0,\"ticks\":\"\"}},\"type\":\"parcoords\"}],\"pie\":[{\"automargin\":true,\"type\":\"pie\"}],\"scatter3d\":[{\"line\":{\"colorbar\":{\"outlinewidth\":0,\"ticks\":\"\"}},\"marker\":{\"colorbar\":{\"outlinewidth\":0,\"ticks\":\"\"}},\"type\":\"scatter3d\"}],\"scattercarpet\":[{\"marker\":{\"colorbar\":{\"outlinewidth\":0,\"ticks\":\"\"}},\"type\":\"scattercarpet\"}],\"scattergeo\":[{\"marker\":{\"colorbar\":{\"outlinewidth\":0,\"ticks\":\"\"}},\"type\":\"scattergeo\"}],\"scattergl\":[{\"marker\":{\"colorbar\":{\"outlinewidth\":0,\"ticks\":\"\"}},\"type\":\"scattergl\"}],\"scattermapbox\":[{\"marker\":{\"colorbar\":{\"outlinewidth\":0,\"ticks\":\"\"}},\"type\":\"scattermapbox\"}],\"scatterpolargl\":[{\"marker\":{\"colorbar\":{\"outlinewidth\":0,\"ticks\":\"\"}},\"type\":\"scatterpolargl\"}],\"scatterpolar\":[{\"marker\":{\"colorbar\":{\"outlinewidth\":0,\"ticks\":\"\"}},\"type\":\"scatterpolar\"}],\"scatter\":[{\"fillpattern\":{\"fillmode\":\"overlay\",\"size\":10,\"solidity\":0.2},\"type\":\"scatter\"}],\"scatterternary\":[{\"marker\":{\"colorbar\":{\"outlinewidth\":0,\"ticks\":\"\"}},\"type\":\"scatterternary\"}],\"surface\":[{\"colorbar\":{\"outlinewidth\":0,\"ticks\":\"\"},\"colorscale\":[[0.0,\"#0d0887\"],[0.1111111111111111,\"#46039f\"],[0.2222222222222222,\"#7201a8\"],[0.3333333333333333,\"#9c179e\"],[0.4444444444444444,\"#bd3786\"],[0.5555555555555556,\"#d8576b\"],[0.6666666666666666,\"#ed7953\"],[0.7777777777777778,\"#fb9f3a\"],[0.8888888888888888,\"#fdca26\"],[1.0,\"#f0f921\"]],\"type\":\"surface\"}],\"table\":[{\"cells\":{\"fill\":{\"color\":\"#EBF0F8\"},\"line\":{\"color\":\"white\"}},\"header\":{\"fill\":{\"color\":\"#C8D4E3\"},\"line\":{\"color\":\"white\"}},\"type\":\"table\"}]},\"layout\":{\"annotationdefaults\":{\"arrowcolor\":\"#2a3f5f\",\"arrowhead\":0,\"arrowwidth\":1},\"autotypenumbers\":\"strict\",\"coloraxis\":{\"colorbar\":{\"outlinewidth\":0,\"ticks\":\"\"}},\"colorscale\":{\"diverging\":[[0,\"#8e0152\"],[0.1,\"#c51b7d\"],[0.2,\"#de77ae\"],[0.3,\"#f1b6da\"],[0.4,\"#fde0ef\"],[0.5,\"#f7f7f7\"],[0.6,\"#e6f5d0\"],[0.7,\"#b8e186\"],[0.8,\"#7fbc41\"],[0.9,\"#4d9221\"],[1,\"#276419\"]],\"sequential\":[[0.0,\"#0d0887\"],[0.1111111111111111,\"#46039f\"],[0.2222222222222222,\"#7201a8\"],[0.3333333333333333,\"#9c179e\"],[0.4444444444444444,\"#bd3786\"],[0.5555555555555556,\"#d8576b\"],[0.6666666666666666,\"#ed7953\"],[0.7777777777777778,\"#fb9f3a\"],[0.8888888888888888,\"#fdca26\"],[1.0,\"#f0f921\"]],\"sequentialminus\":[[0.0,\"#0d0887\"],[0.1111111111111111,\"#46039f\"],[0.2222222222222222,\"#7201a8\"],[0.3333333333333333,\"#9c179e\"],[0.4444444444444444,\"#bd3786\"],[0.5555555555555556,\"#d8576b\"],[0.6666666666666666,\"#ed7953\"],[0.7777777777777778,\"#fb9f3a\"],[0.8888888888888888,\"#fdca26\"],[1.0,\"#f0f921\"]]},\"colorway\":[\"#636efa\",\"#EF553B\",\"#00cc96\",\"#ab63fa\",\"#FFA15A\",\"#19d3f3\",\"#FF6692\",\"#B6E880\",\"#FF97FF\",\"#FECB52\"],\"font\":{\"color\":\"#2a3f5f\"},\"geo\":{\"bgcolor\":\"white\",\"lakecolor\":\"white\",\"landcolor\":\"white\",\"showlakes\":true,\"showland\":true,\"subunitcolor\":\"#C8D4E3\"},\"hoverlabel\":{\"align\":\"left\"},\"hovermode\":\"closest\",\"mapbox\":{\"style\":\"light\"},\"paper_bgcolor\":\"white\",\"plot_bgcolor\":\"white\",\"polar\":{\"angularaxis\":{\"gridcolor\":\"#EBF0F8\",\"linecolor\":\"#EBF0F8\",\"ticks\":\"\"},\"bgcolor\":\"white\",\"radialaxis\":{\"gridcolor\":\"#EBF0F8\",\"linecolor\":\"#EBF0F8\",\"ticks\":\"\"}},\"scene\":{\"xaxis\":{\"backgroundcolor\":\"white\",\"gridcolor\":\"#DFE8F3\",\"gridwidth\":2,\"linecolor\":\"#EBF0F8\",\"showbackground\":true,\"ticks\":\"\",\"zerolinecolor\":\"#EBF0F8\"},\"yaxis\":{\"backgroundcolor\":\"white\",\"gridcolor\":\"#DFE8F3\",\"gridwidth\":2,\"linecolor\":\"#EBF0F8\",\"showbackground\":true,\"ticks\":\"\",\"zerolinecolor\":\"#EBF0F8\"},\"zaxis\":{\"backgroundcolor\":\"white\",\"gridcolor\":\"#DFE8F3\",\"gridwidth\":2,\"linecolor\":\"#EBF0F8\",\"showbackground\":true,\"ticks\":\"\",\"zerolinecolor\":\"#EBF0F8\"}},\"shapedefaults\":{\"line\":{\"color\":\"#2a3f5f\"}},\"ternary\":{\"aaxis\":{\"gridcolor\":\"#DFE8F3\",\"linecolor\":\"#A2B1C6\",\"ticks\":\"\"},\"baxis\":{\"gridcolor\":\"#DFE8F3\",\"linecolor\":\"#A2B1C6\",\"ticks\":\"\"},\"bgcolor\":\"white\",\"caxis\":{\"gridcolor\":\"#DFE8F3\",\"linecolor\":\"#A2B1C6\",\"ticks\":\"\"}},\"title\":{\"x\":0.05},\"xaxis\":{\"automargin\":true,\"gridcolor\":\"#EBF0F8\",\"linecolor\":\"#EBF0F8\",\"ticks\":\"\",\"title\":{\"standoff\":15},\"zerolinecolor\":\"#EBF0F8\",\"zerolinewidth\":2},\"yaxis\":{\"automargin\":true,\"gridcolor\":\"#EBF0F8\",\"linecolor\":\"#EBF0F8\",\"ticks\":\"\",\"title\":{\"standoff\":15},\"zerolinecolor\":\"#EBF0F8\",\"zerolinewidth\":2}}},\"title\":{\"text\":\"Velocidad del cohete en función del tiempo\"},\"xaxis\":{\"title\":{\"text\":\"Tiempo (s)\"}},\"yaxis\":{\"title\":{\"text\":\"Velocidad (m\\u002fs)\"}},\"hovermode\":\"x\"},                        {\"responsive\": true}                    ).then(function(){\n",
              "                            \n",
              "var gd = document.getElementById('273dd47a-58e4-4021-a5ed-c5566157f19d');\n",
              "var x = new MutationObserver(function (mutations, observer) {{\n",
              "        var display = window.getComputedStyle(gd).display;\n",
              "        if (!display || display === 'none') {{\n",
              "            console.log([gd, 'removed!']);\n",
              "            Plotly.purge(gd);\n",
              "            observer.disconnect();\n",
              "        }}\n",
              "}});\n",
              "\n",
              "// Listen for the removal of the full notebook cells\n",
              "var notebookContainer = gd.closest('#notebook-container');\n",
              "if (notebookContainer) {{\n",
              "    x.observe(notebookContainer, {childList: true});\n",
              "}}\n",
              "\n",
              "// Listen for the clearing of the current output cell\n",
              "var outputEl = gd.closest('.output');\n",
              "if (outputEl) {{\n",
              "    x.observe(outputEl, {childList: true});\n",
              "}}\n",
              "\n",
              "                        })                };                            </script>        </div>\n",
              "</body>\n",
              "</html>"
            ]
          },
          "metadata": {}
        }
      ]
    },
    {
      "cell_type": "markdown",
      "source": [
        ">$b)$ ¿Cuánto tiempo tardará el cohete en consumir todo su combustible si su masa\n",
        "final sin combustible es de $1000 kg$?\n",
        ">>$R//$\n",
        "\n",
        ">> $t=?$\n",
        "\n",
        ">>$m_{f}=1000kg$\n",
        "\n",
        "---------------\n",
        "\n",
        ">>$\\text{Ecuación}$\n",
        "\n",
        ">>$m(t)= m_{0}-\\beta t$\n",
        "\n",
        ">>$\\text{Reemplazamos}$\n",
        "\n",
        ">>$1000 = 5000 - 50t$\n",
        "\n",
        ">>$\\frac{-4000}{-50} = t$\n",
        "\n",
        ">>$t = 80s$"
      ],
      "metadata": {
        "id": "74w4yUamXbH1"
      }
    },
    {
      "cell_type": "code",
      "source": [
        "import numpy as np\n",
        "import plotly.graph_objects as go\n",
        "\n",
        "def m(t, m0=5000, beta=50):\n",
        "    return m0 - beta * t\n",
        "\n",
        "t_values = np.linspace(0, 80, 100)\n",
        "m_values = m(t_values)\n",
        "\n",
        "fig = go.Figure()\n",
        "\n",
        "fig.add_trace(go.Scatter(x=t_values, y=m_values, mode='lines', name='Masa del cohete'))\n",
        "\n",
        "fig.add_trace(go.Scatter(x=[80], y=[m(80)], mode='markers',\n",
        "                         marker=dict(color='red', size=10),\n",
        "                         name=f'm(80) = {m(80):.0f} kg'))\n",
        "\n",
        "fig.update_layout(\n",
        "    title='Masa del cohete en función del tiempo',\n",
        "    xaxis_title='Tiempo (s)',\n",
        "    yaxis_title='Masa (kg)',\n",
        "    hovermode=\"x\",\n",
        "    template=\"plotly_white\"\n",
        ")\n",
        "\n",
        "fig.show()\n"
      ],
      "metadata": {
        "colab": {
          "base_uri": "https://localhost:8080/",
          "height": 542
        },
        "id": "mIIps2Dcc--m",
        "outputId": "634aebaf-a1c1-4e7d-e7c2-9a3af9bb077d"
      },
      "execution_count": 9,
      "outputs": [
        {
          "output_type": "display_data",
          "data": {
            "text/html": [
              "<html>\n",
              "<head><meta charset=\"utf-8\" /></head>\n",
              "<body>\n",
              "    <div>            <script src=\"https://cdnjs.cloudflare.com/ajax/libs/mathjax/2.7.5/MathJax.js?config=TeX-AMS-MML_SVG\"></script><script type=\"text/javascript\">if (window.MathJax && window.MathJax.Hub && window.MathJax.Hub.Config) {window.MathJax.Hub.Config({SVG: {font: \"STIX-Web\"}});}</script>                <script type=\"text/javascript\">window.PlotlyConfig = {MathJaxConfig: 'local'};</script>\n",
              "        <script charset=\"utf-8\" src=\"https://cdn.plot.ly/plotly-2.35.2.min.js\"></script>                <div id=\"c52f4c41-579a-411b-abe2-1a27a33f310d\" class=\"plotly-graph-div\" style=\"height:525px; width:100%;\"></div>            <script type=\"text/javascript\">                                    window.PLOTLYENV=window.PLOTLYENV || {};                                    if (document.getElementById(\"c52f4c41-579a-411b-abe2-1a27a33f310d\")) {                    Plotly.newPlot(                        \"c52f4c41-579a-411b-abe2-1a27a33f310d\",                        [{\"mode\":\"lines\",\"name\":\"Masa del cohete\",\"x\":[0.0,0.8080808080808081,1.6161616161616161,2.4242424242424243,3.2323232323232323,4.040404040404041,4.848484848484849,5.656565656565657,6.4646464646464645,7.2727272727272725,8.080808080808081,8.88888888888889,9.696969696969697,10.505050505050505,11.313131313131313,12.121212121212121,12.929292929292929,13.737373737373737,14.545454545454545,15.353535353535353,16.161616161616163,16.96969696969697,17.77777777777778,18.585858585858585,19.393939393939394,20.2020202020202,21.01010101010101,21.818181818181817,22.626262626262626,23.434343434343432,24.242424242424242,25.05050505050505,25.858585858585858,26.666666666666668,27.474747474747474,28.282828282828284,29.09090909090909,29.8989898989899,30.707070707070706,31.515151515151516,32.323232323232325,33.13131313131313,33.93939393939394,34.74747474747475,35.55555555555556,36.36363636363636,37.17171717171717,37.97979797979798,38.78787878787879,39.5959595959596,40.4040404040404,41.21212121212121,42.02020202020202,42.82828282828283,43.63636363636363,44.44444444444444,45.25252525252525,46.06060606060606,46.868686868686865,47.676767676767675,48.484848484848484,49.292929292929294,50.1010101010101,50.90909090909091,51.717171717171716,52.525252525252526,53.333333333333336,54.14141414141414,54.94949494949495,55.75757575757576,56.56565656565657,57.37373737373737,58.18181818181818,58.98989898989899,59.7979797979798,60.6060606060606,61.41414141414141,62.22222222222222,63.03030303030303,63.838383838383834,64.64646464646465,65.45454545454545,66.26262626262626,67.07070707070707,67.87878787878788,68.68686868686869,69.4949494949495,70.3030303030303,71.11111111111111,71.91919191919192,72.72727272727272,73.53535353535354,74.34343434343434,75.15151515151516,75.95959595959596,76.76767676767676,77.57575757575758,78.38383838383838,79.1919191919192,80.0],\"y\":[5000.0,4959.595959595959,4919.19191919192,4878.787878787879,4838.383838383838,4797.979797979798,4757.575757575758,4717.171717171717,4676.767676767677,4636.363636363636,4595.959595959596,4555.555555555556,4515.151515151515,4474.747474747474,4434.343434343435,4393.939393939394,4353.535353535353,4313.131313131313,4272.727272727273,4232.323232323232,4191.919191919192,4151.515151515152,4111.111111111111,4070.7070707070707,4030.30303030303,3989.89898989899,3949.4949494949497,3909.090909090909,3868.6868686868684,3828.2828282828286,3787.878787878788,3747.4747474747473,3707.070707070707,3666.6666666666665,3626.2626262626263,3585.8585858585857,3545.4545454545455,3505.0505050505053,3464.6464646464647,3424.242424242424,3383.838383838384,3343.4343434343436,3303.030303030303,3262.6262626262624,3222.222222222222,3181.818181818182,3141.4141414141413,3101.010101010101,3060.6060606060605,3020.2020202020203,2979.7979797979797,2939.3939393939395,2898.989898989899,2858.5858585858587,2818.1818181818185,2777.777777777778,2737.373737373737,2696.969696969697,2656.565656565657,2616.161616161616,2575.757575757576,2535.3535353535353,2494.949494949495,2454.5454545454545,2414.1414141414143,2373.7373737373737,2333.333333333333,2292.9292929292933,2252.5252525252527,2212.121212121212,2171.717171717172,2131.3131313131316,2090.909090909091,2050.5050505050503,2010.1010101010102,1969.69696969697,1929.2929292929293,1888.8888888888891,1848.4848484848485,1808.0808080808083,1767.6767676767677,1727.2727272727275,1686.8686868686873,1646.4646464646462,1606.060606060606,1565.6565656565654,1525.2525252525252,1484.848484848485,1444.4444444444443,1404.0404040404042,1363.636363636364,1323.2323232323233,1282.8282828282831,1242.424242424242,1202.0202020202023,1161.6161616161621,1121.212121212121,1080.8080808080808,1040.4040404040402,1000.0],\"type\":\"scatter\"},{\"marker\":{\"color\":\"red\",\"size\":10},\"mode\":\"markers\",\"name\":\"m(80) = 1000 kg\",\"x\":[80],\"y\":[1000],\"type\":\"scatter\"}],                        {\"template\":{\"data\":{\"barpolar\":[{\"marker\":{\"line\":{\"color\":\"white\",\"width\":0.5},\"pattern\":{\"fillmode\":\"overlay\",\"size\":10,\"solidity\":0.2}},\"type\":\"barpolar\"}],\"bar\":[{\"error_x\":{\"color\":\"#2a3f5f\"},\"error_y\":{\"color\":\"#2a3f5f\"},\"marker\":{\"line\":{\"color\":\"white\",\"width\":0.5},\"pattern\":{\"fillmode\":\"overlay\",\"size\":10,\"solidity\":0.2}},\"type\":\"bar\"}],\"carpet\":[{\"aaxis\":{\"endlinecolor\":\"#2a3f5f\",\"gridcolor\":\"#C8D4E3\",\"linecolor\":\"#C8D4E3\",\"minorgridcolor\":\"#C8D4E3\",\"startlinecolor\":\"#2a3f5f\"},\"baxis\":{\"endlinecolor\":\"#2a3f5f\",\"gridcolor\":\"#C8D4E3\",\"linecolor\":\"#C8D4E3\",\"minorgridcolor\":\"#C8D4E3\",\"startlinecolor\":\"#2a3f5f\"},\"type\":\"carpet\"}],\"choropleth\":[{\"colorbar\":{\"outlinewidth\":0,\"ticks\":\"\"},\"type\":\"choropleth\"}],\"contourcarpet\":[{\"colorbar\":{\"outlinewidth\":0,\"ticks\":\"\"},\"type\":\"contourcarpet\"}],\"contour\":[{\"colorbar\":{\"outlinewidth\":0,\"ticks\":\"\"},\"colorscale\":[[0.0,\"#0d0887\"],[0.1111111111111111,\"#46039f\"],[0.2222222222222222,\"#7201a8\"],[0.3333333333333333,\"#9c179e\"],[0.4444444444444444,\"#bd3786\"],[0.5555555555555556,\"#d8576b\"],[0.6666666666666666,\"#ed7953\"],[0.7777777777777778,\"#fb9f3a\"],[0.8888888888888888,\"#fdca26\"],[1.0,\"#f0f921\"]],\"type\":\"contour\"}],\"heatmapgl\":[{\"colorbar\":{\"outlinewidth\":0,\"ticks\":\"\"},\"colorscale\":[[0.0,\"#0d0887\"],[0.1111111111111111,\"#46039f\"],[0.2222222222222222,\"#7201a8\"],[0.3333333333333333,\"#9c179e\"],[0.4444444444444444,\"#bd3786\"],[0.5555555555555556,\"#d8576b\"],[0.6666666666666666,\"#ed7953\"],[0.7777777777777778,\"#fb9f3a\"],[0.8888888888888888,\"#fdca26\"],[1.0,\"#f0f921\"]],\"type\":\"heatmapgl\"}],\"heatmap\":[{\"colorbar\":{\"outlinewidth\":0,\"ticks\":\"\"},\"colorscale\":[[0.0,\"#0d0887\"],[0.1111111111111111,\"#46039f\"],[0.2222222222222222,\"#7201a8\"],[0.3333333333333333,\"#9c179e\"],[0.4444444444444444,\"#bd3786\"],[0.5555555555555556,\"#d8576b\"],[0.6666666666666666,\"#ed7953\"],[0.7777777777777778,\"#fb9f3a\"],[0.8888888888888888,\"#fdca26\"],[1.0,\"#f0f921\"]],\"type\":\"heatmap\"}],\"histogram2dcontour\":[{\"colorbar\":{\"outlinewidth\":0,\"ticks\":\"\"},\"colorscale\":[[0.0,\"#0d0887\"],[0.1111111111111111,\"#46039f\"],[0.2222222222222222,\"#7201a8\"],[0.3333333333333333,\"#9c179e\"],[0.4444444444444444,\"#bd3786\"],[0.5555555555555556,\"#d8576b\"],[0.6666666666666666,\"#ed7953\"],[0.7777777777777778,\"#fb9f3a\"],[0.8888888888888888,\"#fdca26\"],[1.0,\"#f0f921\"]],\"type\":\"histogram2dcontour\"}],\"histogram2d\":[{\"colorbar\":{\"outlinewidth\":0,\"ticks\":\"\"},\"colorscale\":[[0.0,\"#0d0887\"],[0.1111111111111111,\"#46039f\"],[0.2222222222222222,\"#7201a8\"],[0.3333333333333333,\"#9c179e\"],[0.4444444444444444,\"#bd3786\"],[0.5555555555555556,\"#d8576b\"],[0.6666666666666666,\"#ed7953\"],[0.7777777777777778,\"#fb9f3a\"],[0.8888888888888888,\"#fdca26\"],[1.0,\"#f0f921\"]],\"type\":\"histogram2d\"}],\"histogram\":[{\"marker\":{\"pattern\":{\"fillmode\":\"overlay\",\"size\":10,\"solidity\":0.2}},\"type\":\"histogram\"}],\"mesh3d\":[{\"colorbar\":{\"outlinewidth\":0,\"ticks\":\"\"},\"type\":\"mesh3d\"}],\"parcoords\":[{\"line\":{\"colorbar\":{\"outlinewidth\":0,\"ticks\":\"\"}},\"type\":\"parcoords\"}],\"pie\":[{\"automargin\":true,\"type\":\"pie\"}],\"scatter3d\":[{\"line\":{\"colorbar\":{\"outlinewidth\":0,\"ticks\":\"\"}},\"marker\":{\"colorbar\":{\"outlinewidth\":0,\"ticks\":\"\"}},\"type\":\"scatter3d\"}],\"scattercarpet\":[{\"marker\":{\"colorbar\":{\"outlinewidth\":0,\"ticks\":\"\"}},\"type\":\"scattercarpet\"}],\"scattergeo\":[{\"marker\":{\"colorbar\":{\"outlinewidth\":0,\"ticks\":\"\"}},\"type\":\"scattergeo\"}],\"scattergl\":[{\"marker\":{\"colorbar\":{\"outlinewidth\":0,\"ticks\":\"\"}},\"type\":\"scattergl\"}],\"scattermapbox\":[{\"marker\":{\"colorbar\":{\"outlinewidth\":0,\"ticks\":\"\"}},\"type\":\"scattermapbox\"}],\"scatterpolargl\":[{\"marker\":{\"colorbar\":{\"outlinewidth\":0,\"ticks\":\"\"}},\"type\":\"scatterpolargl\"}],\"scatterpolar\":[{\"marker\":{\"colorbar\":{\"outlinewidth\":0,\"ticks\":\"\"}},\"type\":\"scatterpolar\"}],\"scatter\":[{\"fillpattern\":{\"fillmode\":\"overlay\",\"size\":10,\"solidity\":0.2},\"type\":\"scatter\"}],\"scatterternary\":[{\"marker\":{\"colorbar\":{\"outlinewidth\":0,\"ticks\":\"\"}},\"type\":\"scatterternary\"}],\"surface\":[{\"colorbar\":{\"outlinewidth\":0,\"ticks\":\"\"},\"colorscale\":[[0.0,\"#0d0887\"],[0.1111111111111111,\"#46039f\"],[0.2222222222222222,\"#7201a8\"],[0.3333333333333333,\"#9c179e\"],[0.4444444444444444,\"#bd3786\"],[0.5555555555555556,\"#d8576b\"],[0.6666666666666666,\"#ed7953\"],[0.7777777777777778,\"#fb9f3a\"],[0.8888888888888888,\"#fdca26\"],[1.0,\"#f0f921\"]],\"type\":\"surface\"}],\"table\":[{\"cells\":{\"fill\":{\"color\":\"#EBF0F8\"},\"line\":{\"color\":\"white\"}},\"header\":{\"fill\":{\"color\":\"#C8D4E3\"},\"line\":{\"color\":\"white\"}},\"type\":\"table\"}]},\"layout\":{\"annotationdefaults\":{\"arrowcolor\":\"#2a3f5f\",\"arrowhead\":0,\"arrowwidth\":1},\"autotypenumbers\":\"strict\",\"coloraxis\":{\"colorbar\":{\"outlinewidth\":0,\"ticks\":\"\"}},\"colorscale\":{\"diverging\":[[0,\"#8e0152\"],[0.1,\"#c51b7d\"],[0.2,\"#de77ae\"],[0.3,\"#f1b6da\"],[0.4,\"#fde0ef\"],[0.5,\"#f7f7f7\"],[0.6,\"#e6f5d0\"],[0.7,\"#b8e186\"],[0.8,\"#7fbc41\"],[0.9,\"#4d9221\"],[1,\"#276419\"]],\"sequential\":[[0.0,\"#0d0887\"],[0.1111111111111111,\"#46039f\"],[0.2222222222222222,\"#7201a8\"],[0.3333333333333333,\"#9c179e\"],[0.4444444444444444,\"#bd3786\"],[0.5555555555555556,\"#d8576b\"],[0.6666666666666666,\"#ed7953\"],[0.7777777777777778,\"#fb9f3a\"],[0.8888888888888888,\"#fdca26\"],[1.0,\"#f0f921\"]],\"sequentialminus\":[[0.0,\"#0d0887\"],[0.1111111111111111,\"#46039f\"],[0.2222222222222222,\"#7201a8\"],[0.3333333333333333,\"#9c179e\"],[0.4444444444444444,\"#bd3786\"],[0.5555555555555556,\"#d8576b\"],[0.6666666666666666,\"#ed7953\"],[0.7777777777777778,\"#fb9f3a\"],[0.8888888888888888,\"#fdca26\"],[1.0,\"#f0f921\"]]},\"colorway\":[\"#636efa\",\"#EF553B\",\"#00cc96\",\"#ab63fa\",\"#FFA15A\",\"#19d3f3\",\"#FF6692\",\"#B6E880\",\"#FF97FF\",\"#FECB52\"],\"font\":{\"color\":\"#2a3f5f\"},\"geo\":{\"bgcolor\":\"white\",\"lakecolor\":\"white\",\"landcolor\":\"white\",\"showlakes\":true,\"showland\":true,\"subunitcolor\":\"#C8D4E3\"},\"hoverlabel\":{\"align\":\"left\"},\"hovermode\":\"closest\",\"mapbox\":{\"style\":\"light\"},\"paper_bgcolor\":\"white\",\"plot_bgcolor\":\"white\",\"polar\":{\"angularaxis\":{\"gridcolor\":\"#EBF0F8\",\"linecolor\":\"#EBF0F8\",\"ticks\":\"\"},\"bgcolor\":\"white\",\"radialaxis\":{\"gridcolor\":\"#EBF0F8\",\"linecolor\":\"#EBF0F8\",\"ticks\":\"\"}},\"scene\":{\"xaxis\":{\"backgroundcolor\":\"white\",\"gridcolor\":\"#DFE8F3\",\"gridwidth\":2,\"linecolor\":\"#EBF0F8\",\"showbackground\":true,\"ticks\":\"\",\"zerolinecolor\":\"#EBF0F8\"},\"yaxis\":{\"backgroundcolor\":\"white\",\"gridcolor\":\"#DFE8F3\",\"gridwidth\":2,\"linecolor\":\"#EBF0F8\",\"showbackground\":true,\"ticks\":\"\",\"zerolinecolor\":\"#EBF0F8\"},\"zaxis\":{\"backgroundcolor\":\"white\",\"gridcolor\":\"#DFE8F3\",\"gridwidth\":2,\"linecolor\":\"#EBF0F8\",\"showbackground\":true,\"ticks\":\"\",\"zerolinecolor\":\"#EBF0F8\"}},\"shapedefaults\":{\"line\":{\"color\":\"#2a3f5f\"}},\"ternary\":{\"aaxis\":{\"gridcolor\":\"#DFE8F3\",\"linecolor\":\"#A2B1C6\",\"ticks\":\"\"},\"baxis\":{\"gridcolor\":\"#DFE8F3\",\"linecolor\":\"#A2B1C6\",\"ticks\":\"\"},\"bgcolor\":\"white\",\"caxis\":{\"gridcolor\":\"#DFE8F3\",\"linecolor\":\"#A2B1C6\",\"ticks\":\"\"}},\"title\":{\"x\":0.05},\"xaxis\":{\"automargin\":true,\"gridcolor\":\"#EBF0F8\",\"linecolor\":\"#EBF0F8\",\"ticks\":\"\",\"title\":{\"standoff\":15},\"zerolinecolor\":\"#EBF0F8\",\"zerolinewidth\":2},\"yaxis\":{\"automargin\":true,\"gridcolor\":\"#EBF0F8\",\"linecolor\":\"#EBF0F8\",\"ticks\":\"\",\"title\":{\"standoff\":15},\"zerolinecolor\":\"#EBF0F8\",\"zerolinewidth\":2}}},\"title\":{\"text\":\"Masa del cohete en función del tiempo\"},\"xaxis\":{\"title\":{\"text\":\"Tiempo (s)\"}},\"yaxis\":{\"title\":{\"text\":\"Masa (kg)\"}},\"hovermode\":\"x\"},                        {\"responsive\": true}                    ).then(function(){\n",
              "                            \n",
              "var gd = document.getElementById('c52f4c41-579a-411b-abe2-1a27a33f310d');\n",
              "var x = new MutationObserver(function (mutations, observer) {{\n",
              "        var display = window.getComputedStyle(gd).display;\n",
              "        if (!display || display === 'none') {{\n",
              "            console.log([gd, 'removed!']);\n",
              "            Plotly.purge(gd);\n",
              "            observer.disconnect();\n",
              "        }}\n",
              "}});\n",
              "\n",
              "// Listen for the removal of the full notebook cells\n",
              "var notebookContainer = gd.closest('#notebook-container');\n",
              "if (notebookContainer) {{\n",
              "    x.observe(notebookContainer, {childList: true});\n",
              "}}\n",
              "\n",
              "// Listen for the clearing of the current output cell\n",
              "var outputEl = gd.closest('.output');\n",
              "if (outputEl) {{\n",
              "    x.observe(outputEl, {childList: true});\n",
              "}}\n",
              "\n",
              "                        })                };                            </script>        </div>\n",
              "</body>\n",
              "</html>"
            ]
          },
          "metadata": {}
        }
      ]
    },
    {
      "cell_type": "markdown",
      "source": [
        ">$c)$ ¿Cuál será la velocidad del cohete en el momento en que se quede sin combustible?\n",
        ">>$R//$\n",
        "\n",
        ">>$v(80)=?$\n",
        "\n",
        "-----------------------------------\n",
        "\n",
        ">>$\\text{Ecuación}$\n",
        "\n",
        ">>$v(t) = v_{0} - gt + cln \\times \\frac{m_{0}}{m_{0} - \\beta t}$\n",
        "\n",
        ">>$\\text{Reemplazamos}$\n",
        "\n",
        ">>$v(80)=-(9.81)(80)+2500 ln \\frac{5000}{5000 - 50(80)}$\n",
        "\n",
        ">>$v(80)=-784.8 + 2500(1.6094)$\n",
        "\n",
        ">>$v(30)= -784.8 + 4023.5$\n",
        "\n",
        ">>$v(80)=3238.7 \\frac{m}{s}$"
      ],
      "metadata": {
        "id": "EJGrgTK_XSUg"
      }
    },
    {
      "cell_type": "code",
      "source": [
        "import numpy as np\n",
        "import plotly.graph_objects as go\n",
        "\n",
        "def v(t, g=9.81, v_g=2500, m0=5000, beta=50):\n",
        "    return -g*t + v_g * np.log(m0 / (m0 - beta * t))\n",
        "\n",
        "t_values = np.linspace(0, 80, 100)\n",
        "v_values = v(t_values)\n",
        "\n",
        "fig = go.Figure()\n",
        "\n",
        "fig.add_trace(go.Scatter(x=t_values, y=v_values, mode='lines', name='Velocidad del cohete'))\n",
        "\n",
        "fig.add_trace(go.Scatter(x=[80], y=[v(80)], mode='markers',\n",
        "                         marker=dict(color='red', size=10),\n",
        "                         name=f'v(80) = {v(80):.1f} m/s'))\n",
        "\n",
        "fig.update_layout(\n",
        "    title='Velocidad del cohete en función del tiempo',\n",
        "    xaxis_title='Tiempo (s)',\n",
        "    yaxis_title='Velocidad (m/s)',\n",
        "    hovermode=\"x\",\n",
        "    template=\"plotly_white\"\n",
        ")\n",
        "\n",
        "fig.show()\n"
      ],
      "metadata": {
        "colab": {
          "base_uri": "https://localhost:8080/",
          "height": 542
        },
        "id": "hHRJoo-gdlLM",
        "outputId": "02da0963-4574-482b-c5e8-3a8005d11db6"
      },
      "execution_count": 10,
      "outputs": [
        {
          "output_type": "display_data",
          "data": {
            "text/html": [
              "<html>\n",
              "<head><meta charset=\"utf-8\" /></head>\n",
              "<body>\n",
              "    <div>            <script src=\"https://cdnjs.cloudflare.com/ajax/libs/mathjax/2.7.5/MathJax.js?config=TeX-AMS-MML_SVG\"></script><script type=\"text/javascript\">if (window.MathJax && window.MathJax.Hub && window.MathJax.Hub.Config) {window.MathJax.Hub.Config({SVG: {font: \"STIX-Web\"}});}</script>                <script type=\"text/javascript\">window.PlotlyConfig = {MathJaxConfig: 'local'};</script>\n",
              "        <script charset=\"utf-8\" src=\"https://cdn.plot.ly/plotly-2.35.2.min.js\"></script>                <div id=\"f0c4bcbf-15bf-4c01-b96d-c018c8e1567a\" class=\"plotly-graph-div\" style=\"height:525px; width:100%;\"></div>            <script type=\"text/javascript\">                                    window.PLOTLYENV=window.PLOTLYENV || {};                                    if (document.getElementById(\"f0c4bcbf-15bf-4c01-b96d-c018c8e1567a\")) {                    Plotly.newPlot(                        \"f0c4bcbf-15bf-4c01-b96d-c018c8e1567a\",                        [{\"mode\":\"lines\",\"name\":\"Velocidad del cohete\",\"x\":[0.0,0.8080808080808081,1.6161616161616161,2.4242424242424243,3.2323232323232323,4.040404040404041,4.848484848484849,5.656565656565657,6.4646464646464645,7.2727272727272725,8.080808080808081,8.88888888888889,9.696969696969697,10.505050505050505,11.313131313131313,12.121212121212121,12.929292929292929,13.737373737373737,14.545454545454545,15.353535353535353,16.161616161616163,16.96969696969697,17.77777777777778,18.585858585858585,19.393939393939394,20.2020202020202,21.01010101010101,21.818181818181817,22.626262626262626,23.434343434343432,24.242424242424242,25.05050505050505,25.858585858585858,26.666666666666668,27.474747474747474,28.282828282828284,29.09090909090909,29.8989898989899,30.707070707070706,31.515151515151516,32.323232323232325,33.13131313131313,33.93939393939394,34.74747474747475,35.55555555555556,36.36363636363636,37.17171717171717,37.97979797979798,38.78787878787879,39.5959595959596,40.4040404040404,41.21212121212121,42.02020202020202,42.82828282828283,43.63636363636363,44.44444444444444,45.25252525252525,46.06060606060606,46.868686868686865,47.676767676767675,48.484848484848484,49.292929292929294,50.1010101010101,50.90909090909091,51.717171717171716,52.525252525252526,53.333333333333336,54.14141414141414,54.94949494949495,55.75757575757576,56.56565656565657,57.37373737373737,58.18181818181818,58.98989898989899,59.7979797979798,60.6060606060606,61.41414141414141,62.22222222222222,63.03030303030303,63.838383838383834,64.64646464646465,65.45454545454545,66.26262626262626,67.07070707070707,67.87878787878788,68.68686868686869,69.4949494949495,70.3030303030303,71.11111111111111,71.91919191919192,72.72727272727272,73.53535353535354,74.34343434343434,75.15151515151516,75.95959595959596,76.76767676767676,77.57575757575758,78.38383838383838,79.1919191919192,80.0],\"y\":[0.0,12.356814208151901,24.87955326070588,37.57095410847596,50.43382198534665,63.4710326987594,76.685535017045,90.08035315857339,103.65858938795866,117.4234267249087,131.37813177162224,145.52605766503007,159.87064716053106,174.4154358543413,189.1640555519789,204.1202377909247,219.2878175259926,234.6707369865284,250.27304971512177,266.09892479819956,282.15265129952536,298.4386429084119,314.96144281523834,331.7257288277454,348.7363187425216,365.9981759871029,383.51641554922026,401.2963102109078,419.34329710647467,437.6629846247506,456.26115967751707,475.1437953576834,494.3170590125729,513.787320759599,533.561162473756,553.645387278641,574.0470295752427,594.7733656454868,615.8319248705125,637.2305016069638,658.9771677681506,681.0802861608864,703.5485246331377,726.3908710923573,749.6166494596143,773.2355366303702,797.2575805190951,821.6932192719142,846.5533017392122,871.8491093086459,897.5923792085397,923.7953294020854,950.4706852044912,977.6317077681772,1005.2922245955842,1033.4666622552977,1062.170081495201,1091.4182149665567,1121.227507795496,1151.6151612637902,1182.5991798892965,1214.1984222286296,1246.4326557608733,1279.322616252173,1312.890072047494,1347.1578937886013,1382.1501301172423,1417.8920899909463,1454.4104323168835,1491.7332636986557,1529.8902451934778,1568.9127090951952,1608.8337868946667,1649.6885497263486,1691.5141627923126,1734.350055466904,1778.2381090324238,1823.2228642852588,1869.3517515909007,1916.6753463652924,1965.2476534311224,2015.1264242559846,2066.3735117434735,2119.0552680411843,2173.242991780238,2229.013432305428,2286.449359838961,2345.6402122021573,2406.682830771958,2469.6823008677234,2534.752914871106,2602.0192802370284,2671.6175993661554,2743.6971543543186,2818.422037279265,2895.9731764226904,2976.5507213227093,3060.3768657215055,3147.6992085749093,3238.7947810852506],\"type\":\"scatter\"},{\"marker\":{\"color\":\"red\",\"size\":10},\"mode\":\"markers\",\"name\":\"v(80) = 3238.8 m\\u002fs\",\"x\":[80],\"y\":[3238.7947810852506],\"type\":\"scatter\"}],                        {\"template\":{\"data\":{\"barpolar\":[{\"marker\":{\"line\":{\"color\":\"white\",\"width\":0.5},\"pattern\":{\"fillmode\":\"overlay\",\"size\":10,\"solidity\":0.2}},\"type\":\"barpolar\"}],\"bar\":[{\"error_x\":{\"color\":\"#2a3f5f\"},\"error_y\":{\"color\":\"#2a3f5f\"},\"marker\":{\"line\":{\"color\":\"white\",\"width\":0.5},\"pattern\":{\"fillmode\":\"overlay\",\"size\":10,\"solidity\":0.2}},\"type\":\"bar\"}],\"carpet\":[{\"aaxis\":{\"endlinecolor\":\"#2a3f5f\",\"gridcolor\":\"#C8D4E3\",\"linecolor\":\"#C8D4E3\",\"minorgridcolor\":\"#C8D4E3\",\"startlinecolor\":\"#2a3f5f\"},\"baxis\":{\"endlinecolor\":\"#2a3f5f\",\"gridcolor\":\"#C8D4E3\",\"linecolor\":\"#C8D4E3\",\"minorgridcolor\":\"#C8D4E3\",\"startlinecolor\":\"#2a3f5f\"},\"type\":\"carpet\"}],\"choropleth\":[{\"colorbar\":{\"outlinewidth\":0,\"ticks\":\"\"},\"type\":\"choropleth\"}],\"contourcarpet\":[{\"colorbar\":{\"outlinewidth\":0,\"ticks\":\"\"},\"type\":\"contourcarpet\"}],\"contour\":[{\"colorbar\":{\"outlinewidth\":0,\"ticks\":\"\"},\"colorscale\":[[0.0,\"#0d0887\"],[0.1111111111111111,\"#46039f\"],[0.2222222222222222,\"#7201a8\"],[0.3333333333333333,\"#9c179e\"],[0.4444444444444444,\"#bd3786\"],[0.5555555555555556,\"#d8576b\"],[0.6666666666666666,\"#ed7953\"],[0.7777777777777778,\"#fb9f3a\"],[0.8888888888888888,\"#fdca26\"],[1.0,\"#f0f921\"]],\"type\":\"contour\"}],\"heatmapgl\":[{\"colorbar\":{\"outlinewidth\":0,\"ticks\":\"\"},\"colorscale\":[[0.0,\"#0d0887\"],[0.1111111111111111,\"#46039f\"],[0.2222222222222222,\"#7201a8\"],[0.3333333333333333,\"#9c179e\"],[0.4444444444444444,\"#bd3786\"],[0.5555555555555556,\"#d8576b\"],[0.6666666666666666,\"#ed7953\"],[0.7777777777777778,\"#fb9f3a\"],[0.8888888888888888,\"#fdca26\"],[1.0,\"#f0f921\"]],\"type\":\"heatmapgl\"}],\"heatmap\":[{\"colorbar\":{\"outlinewidth\":0,\"ticks\":\"\"},\"colorscale\":[[0.0,\"#0d0887\"],[0.1111111111111111,\"#46039f\"],[0.2222222222222222,\"#7201a8\"],[0.3333333333333333,\"#9c179e\"],[0.4444444444444444,\"#bd3786\"],[0.5555555555555556,\"#d8576b\"],[0.6666666666666666,\"#ed7953\"],[0.7777777777777778,\"#fb9f3a\"],[0.8888888888888888,\"#fdca26\"],[1.0,\"#f0f921\"]],\"type\":\"heatmap\"}],\"histogram2dcontour\":[{\"colorbar\":{\"outlinewidth\":0,\"ticks\":\"\"},\"colorscale\":[[0.0,\"#0d0887\"],[0.1111111111111111,\"#46039f\"],[0.2222222222222222,\"#7201a8\"],[0.3333333333333333,\"#9c179e\"],[0.4444444444444444,\"#bd3786\"],[0.5555555555555556,\"#d8576b\"],[0.6666666666666666,\"#ed7953\"],[0.7777777777777778,\"#fb9f3a\"],[0.8888888888888888,\"#fdca26\"],[1.0,\"#f0f921\"]],\"type\":\"histogram2dcontour\"}],\"histogram2d\":[{\"colorbar\":{\"outlinewidth\":0,\"ticks\":\"\"},\"colorscale\":[[0.0,\"#0d0887\"],[0.1111111111111111,\"#46039f\"],[0.2222222222222222,\"#7201a8\"],[0.3333333333333333,\"#9c179e\"],[0.4444444444444444,\"#bd3786\"],[0.5555555555555556,\"#d8576b\"],[0.6666666666666666,\"#ed7953\"],[0.7777777777777778,\"#fb9f3a\"],[0.8888888888888888,\"#fdca26\"],[1.0,\"#f0f921\"]],\"type\":\"histogram2d\"}],\"histogram\":[{\"marker\":{\"pattern\":{\"fillmode\":\"overlay\",\"size\":10,\"solidity\":0.2}},\"type\":\"histogram\"}],\"mesh3d\":[{\"colorbar\":{\"outlinewidth\":0,\"ticks\":\"\"},\"type\":\"mesh3d\"}],\"parcoords\":[{\"line\":{\"colorbar\":{\"outlinewidth\":0,\"ticks\":\"\"}},\"type\":\"parcoords\"}],\"pie\":[{\"automargin\":true,\"type\":\"pie\"}],\"scatter3d\":[{\"line\":{\"colorbar\":{\"outlinewidth\":0,\"ticks\":\"\"}},\"marker\":{\"colorbar\":{\"outlinewidth\":0,\"ticks\":\"\"}},\"type\":\"scatter3d\"}],\"scattercarpet\":[{\"marker\":{\"colorbar\":{\"outlinewidth\":0,\"ticks\":\"\"}},\"type\":\"scattercarpet\"}],\"scattergeo\":[{\"marker\":{\"colorbar\":{\"outlinewidth\":0,\"ticks\":\"\"}},\"type\":\"scattergeo\"}],\"scattergl\":[{\"marker\":{\"colorbar\":{\"outlinewidth\":0,\"ticks\":\"\"}},\"type\":\"scattergl\"}],\"scattermapbox\":[{\"marker\":{\"colorbar\":{\"outlinewidth\":0,\"ticks\":\"\"}},\"type\":\"scattermapbox\"}],\"scatterpolargl\":[{\"marker\":{\"colorbar\":{\"outlinewidth\":0,\"ticks\":\"\"}},\"type\":\"scatterpolargl\"}],\"scatterpolar\":[{\"marker\":{\"colorbar\":{\"outlinewidth\":0,\"ticks\":\"\"}},\"type\":\"scatterpolar\"}],\"scatter\":[{\"fillpattern\":{\"fillmode\":\"overlay\",\"size\":10,\"solidity\":0.2},\"type\":\"scatter\"}],\"scatterternary\":[{\"marker\":{\"colorbar\":{\"outlinewidth\":0,\"ticks\":\"\"}},\"type\":\"scatterternary\"}],\"surface\":[{\"colorbar\":{\"outlinewidth\":0,\"ticks\":\"\"},\"colorscale\":[[0.0,\"#0d0887\"],[0.1111111111111111,\"#46039f\"],[0.2222222222222222,\"#7201a8\"],[0.3333333333333333,\"#9c179e\"],[0.4444444444444444,\"#bd3786\"],[0.5555555555555556,\"#d8576b\"],[0.6666666666666666,\"#ed7953\"],[0.7777777777777778,\"#fb9f3a\"],[0.8888888888888888,\"#fdca26\"],[1.0,\"#f0f921\"]],\"type\":\"surface\"}],\"table\":[{\"cells\":{\"fill\":{\"color\":\"#EBF0F8\"},\"line\":{\"color\":\"white\"}},\"header\":{\"fill\":{\"color\":\"#C8D4E3\"},\"line\":{\"color\":\"white\"}},\"type\":\"table\"}]},\"layout\":{\"annotationdefaults\":{\"arrowcolor\":\"#2a3f5f\",\"arrowhead\":0,\"arrowwidth\":1},\"autotypenumbers\":\"strict\",\"coloraxis\":{\"colorbar\":{\"outlinewidth\":0,\"ticks\":\"\"}},\"colorscale\":{\"diverging\":[[0,\"#8e0152\"],[0.1,\"#c51b7d\"],[0.2,\"#de77ae\"],[0.3,\"#f1b6da\"],[0.4,\"#fde0ef\"],[0.5,\"#f7f7f7\"],[0.6,\"#e6f5d0\"],[0.7,\"#b8e186\"],[0.8,\"#7fbc41\"],[0.9,\"#4d9221\"],[1,\"#276419\"]],\"sequential\":[[0.0,\"#0d0887\"],[0.1111111111111111,\"#46039f\"],[0.2222222222222222,\"#7201a8\"],[0.3333333333333333,\"#9c179e\"],[0.4444444444444444,\"#bd3786\"],[0.5555555555555556,\"#d8576b\"],[0.6666666666666666,\"#ed7953\"],[0.7777777777777778,\"#fb9f3a\"],[0.8888888888888888,\"#fdca26\"],[1.0,\"#f0f921\"]],\"sequentialminus\":[[0.0,\"#0d0887\"],[0.1111111111111111,\"#46039f\"],[0.2222222222222222,\"#7201a8\"],[0.3333333333333333,\"#9c179e\"],[0.4444444444444444,\"#bd3786\"],[0.5555555555555556,\"#d8576b\"],[0.6666666666666666,\"#ed7953\"],[0.7777777777777778,\"#fb9f3a\"],[0.8888888888888888,\"#fdca26\"],[1.0,\"#f0f921\"]]},\"colorway\":[\"#636efa\",\"#EF553B\",\"#00cc96\",\"#ab63fa\",\"#FFA15A\",\"#19d3f3\",\"#FF6692\",\"#B6E880\",\"#FF97FF\",\"#FECB52\"],\"font\":{\"color\":\"#2a3f5f\"},\"geo\":{\"bgcolor\":\"white\",\"lakecolor\":\"white\",\"landcolor\":\"white\",\"showlakes\":true,\"showland\":true,\"subunitcolor\":\"#C8D4E3\"},\"hoverlabel\":{\"align\":\"left\"},\"hovermode\":\"closest\",\"mapbox\":{\"style\":\"light\"},\"paper_bgcolor\":\"white\",\"plot_bgcolor\":\"white\",\"polar\":{\"angularaxis\":{\"gridcolor\":\"#EBF0F8\",\"linecolor\":\"#EBF0F8\",\"ticks\":\"\"},\"bgcolor\":\"white\",\"radialaxis\":{\"gridcolor\":\"#EBF0F8\",\"linecolor\":\"#EBF0F8\",\"ticks\":\"\"}},\"scene\":{\"xaxis\":{\"backgroundcolor\":\"white\",\"gridcolor\":\"#DFE8F3\",\"gridwidth\":2,\"linecolor\":\"#EBF0F8\",\"showbackground\":true,\"ticks\":\"\",\"zerolinecolor\":\"#EBF0F8\"},\"yaxis\":{\"backgroundcolor\":\"white\",\"gridcolor\":\"#DFE8F3\",\"gridwidth\":2,\"linecolor\":\"#EBF0F8\",\"showbackground\":true,\"ticks\":\"\",\"zerolinecolor\":\"#EBF0F8\"},\"zaxis\":{\"backgroundcolor\":\"white\",\"gridcolor\":\"#DFE8F3\",\"gridwidth\":2,\"linecolor\":\"#EBF0F8\",\"showbackground\":true,\"ticks\":\"\",\"zerolinecolor\":\"#EBF0F8\"}},\"shapedefaults\":{\"line\":{\"color\":\"#2a3f5f\"}},\"ternary\":{\"aaxis\":{\"gridcolor\":\"#DFE8F3\",\"linecolor\":\"#A2B1C6\",\"ticks\":\"\"},\"baxis\":{\"gridcolor\":\"#DFE8F3\",\"linecolor\":\"#A2B1C6\",\"ticks\":\"\"},\"bgcolor\":\"white\",\"caxis\":{\"gridcolor\":\"#DFE8F3\",\"linecolor\":\"#A2B1C6\",\"ticks\":\"\"}},\"title\":{\"x\":0.05},\"xaxis\":{\"automargin\":true,\"gridcolor\":\"#EBF0F8\",\"linecolor\":\"#EBF0F8\",\"ticks\":\"\",\"title\":{\"standoff\":15},\"zerolinecolor\":\"#EBF0F8\",\"zerolinewidth\":2},\"yaxis\":{\"automargin\":true,\"gridcolor\":\"#EBF0F8\",\"linecolor\":\"#EBF0F8\",\"ticks\":\"\",\"title\":{\"standoff\":15},\"zerolinecolor\":\"#EBF0F8\",\"zerolinewidth\":2}}},\"title\":{\"text\":\"Velocidad del cohete en función del tiempo\"},\"xaxis\":{\"title\":{\"text\":\"Tiempo (s)\"}},\"yaxis\":{\"title\":{\"text\":\"Velocidad (m\\u002fs)\"}},\"hovermode\":\"x\"},                        {\"responsive\": true}                    ).then(function(){\n",
              "                            \n",
              "var gd = document.getElementById('f0c4bcbf-15bf-4c01-b96d-c018c8e1567a');\n",
              "var x = new MutationObserver(function (mutations, observer) {{\n",
              "        var display = window.getComputedStyle(gd).display;\n",
              "        if (!display || display === 'none') {{\n",
              "            console.log([gd, 'removed!']);\n",
              "            Plotly.purge(gd);\n",
              "            observer.disconnect();\n",
              "        }}\n",
              "}});\n",
              "\n",
              "// Listen for the removal of the full notebook cells\n",
              "var notebookContainer = gd.closest('#notebook-container');\n",
              "if (notebookContainer) {{\n",
              "    x.observe(notebookContainer, {childList: true});\n",
              "}}\n",
              "\n",
              "// Listen for the clearing of the current output cell\n",
              "var outputEl = gd.closest('.output');\n",
              "if (outputEl) {{\n",
              "    x.observe(outputEl, {childList: true});\n",
              "}}\n",
              "\n",
              "                        })                };                            </script>        </div>\n",
              "</body>\n",
              "</html>"
            ]
          },
          "metadata": {}
        }
      ]
    },
    {
      "cell_type": "markdown",
      "source": [
        ">$d)$ ¿Cuál es la posición del cohete después de 30 segundos de ascenso, suponiendo que la resistencia del aire es despreciable y que el cohete despega desde $y(0) = 0$?\n",
        "\n",
        ">>$R//$\n",
        "\n",
        ">>$y(30)=?$\n",
        "\n",
        ">>$\\text{Resistencia} \\to k=0$\n",
        "\n",
        ">>$y(0)=0$\n",
        "\n",
        ">>$\\text{Reemplazamos}$\n",
        "\n",
        ">>$y(30)=(2500)(30)-\\frac{1}{2}(9.81)(30)^{2}$\n",
        "\n",
        ">>$-\\frac{2500}{50}(5000-50(30))ln\\frac{5000}{5000 - 50(30)}$\n",
        "\n",
        ">>$y(30)=(75000)-4414.5-175000(0.3566749439)$\n",
        "\n",
        ">>$y(30)=(75000)-4414.5-62418.1$\n",
        "\n",
        ">>$y(30)=8167.4m$\n"
      ],
      "metadata": {
        "id": "wPB2QlvLW598"
      }
    },
    {
      "cell_type": "code",
      "source": [
        "import numpy as np\n",
        "import plotly.graph_objects as go\n",
        "\n",
        "def y(t, g=9.81, v_g=2500, m0=5000, beta=50):\n",
        "    term1 = v_g * t\n",
        "    term2 = (1/2) * g * t**2\n",
        "    term3 = (v_g / beta) * (m0 - beta * t) * np.log(m0 / (m0 - beta * t))\n",
        "    return term1 - term2 - term3\n",
        "\n",
        "\n",
        "t_values = np.linspace(0, 30, 100)\n",
        "y_values = y(t_values)\n",
        "\n",
        "fig = go.Figure()\n",
        "\n",
        "fig.add_trace(go.Scatter(x=t_values, y=y_values, mode='lines', name='Posición del cohete'))\n",
        "\n",
        "fig.add_trace(go.Scatter(x=[30], y=[y(30)], mode='markers',\n",
        "                         marker=dict(color='red', size=10),\n",
        "                         name=f'y(30) = {y(30):.1f} m'))\n",
        "\n",
        "fig.update_layout(\n",
        "    title='Posición del cohete en función del tiempo',\n",
        "    xaxis_title='Tiempo (s)',\n",
        "    yaxis_title='Altura (m)',\n",
        "    hovermode=\"x\",\n",
        "    template=\"plotly_white\"\n",
        ")\n",
        "\n",
        "fig.show()\n",
        "\n"
      ],
      "metadata": {
        "colab": {
          "base_uri": "https://localhost:8080/",
          "height": 542
        },
        "id": "rfrEjnf7WHIK",
        "outputId": "56ef2670-ceee-44bd-b7b1-38e30e27aa1f"
      },
      "execution_count": 13,
      "outputs": [
        {
          "output_type": "display_data",
          "data": {
            "text/html": [
              "<html>\n",
              "<head><meta charset=\"utf-8\" /></head>\n",
              "<body>\n",
              "    <div>            <script src=\"https://cdnjs.cloudflare.com/ajax/libs/mathjax/2.7.5/MathJax.js?config=TeX-AMS-MML_SVG\"></script><script type=\"text/javascript\">if (window.MathJax && window.MathJax.Hub && window.MathJax.Hub.Config) {window.MathJax.Hub.Config({SVG: {font: \"STIX-Web\"}});}</script>                <script type=\"text/javascript\">window.PlotlyConfig = {MathJaxConfig: 'local'};</script>\n",
              "        <script charset=\"utf-8\" src=\"https://cdn.plot.ly/plotly-2.35.2.min.js\"></script>                <div id=\"6a0c0459-760d-4ff1-8d44-febd1d20be08\" class=\"plotly-graph-div\" style=\"height:525px; width:100%;\"></div>            <script type=\"text/javascript\">                                    window.PLOTLYENV=window.PLOTLYENV || {};                                    if (document.getElementById(\"6a0c0459-760d-4ff1-8d44-febd1d20be08\")) {                    Plotly.newPlot(                        \"6a0c0459-760d-4ff1-8d44-febd1d20be08\",                        [{\"mode\":\"lines\",\"name\":\"Posición del cohete\",\"x\":[0.0,0.30303030303030304,0.6060606060606061,0.9090909090909092,1.2121212121212122,1.5151515151515151,1.8181818181818183,2.121212121212121,2.4242424242424243,2.7272727272727275,3.0303030303030303,3.3333333333333335,3.6363636363636367,3.9393939393939394,4.242424242424242,4.545454545454546,4.848484848484849,5.151515151515151,5.454545454545455,5.757575757575758,6.0606060606060606,6.363636363636364,6.666666666666667,6.96969696969697,7.272727272727273,7.575757575757576,7.878787878787879,8.181818181818182,8.484848484848484,8.787878787878789,9.090909090909092,9.393939393939394,9.696969696969697,10.0,10.303030303030303,10.606060606060606,10.90909090909091,11.212121212121213,11.515151515151516,11.818181818181818,12.121212121212121,12.424242424242424,12.727272727272728,13.030303030303031,13.333333333333334,13.636363636363637,13.93939393939394,14.242424242424242,14.545454545454547,14.84848484848485,15.151515151515152,15.454545454545455,15.757575757575758,16.060606060606062,16.363636363636363,16.666666666666668,16.96969696969697,17.272727272727273,17.575757575757578,17.87878787878788,18.181818181818183,18.484848484848484,18.78787878787879,19.09090909090909,19.393939393939394,19.6969696969697,20.0,20.303030303030305,20.606060606060606,20.90909090909091,21.21212121212121,21.515151515151516,21.81818181818182,22.12121212121212,22.424242424242426,22.727272727272727,23.03030303030303,23.333333333333336,23.636363636363637,23.93939393939394,24.242424242424242,24.545454545454547,24.848484848484848,25.151515151515152,25.454545454545457,25.757575757575758,26.060606060606062,26.363636363636363,26.666666666666668,26.96969696969697,27.272727272727273,27.575757575757578,27.87878787878788,28.181818181818183,28.484848484848484,28.78787878787879,29.090909090909093,29.393939393939394,29.6969696969697,30.0],\"y\":[0.0,0.6985900301704078,2.799019036711343,6.308307362873165,11.233518289747735,17.5817584319243,25.360178136864306,34.575971890495566,45.2363787266695,57.348682642518725,70.92021301839122,85.95834504365848,102.4705001473103,120.46414643414028,139.94679912661013,160.9260210121265,183.40942289604936,207.40466406035193,232.91945272854355,259.9615465358547,288.53875300628715,318.658930035077,350.329986378003,383.5598821466483,418.35662931012484,454.7282922039449,492.68298804454025,532.2288874513943,573.37421497588,616.1272496368256,660.496325463344,706.4898320452812,754.1162150903328,803.3839769890728,854.3016773876043,906.8779337678352,961.1214220354814,1017.0408771165712,1074.6450935613975,1133.9429261573096,1194.9432905495887,1257.6551638712153,1322.087585380912,1388.2496571104239,1456.1505445207586,1525.7994771673839,1597.2057493749853,1670.3787209215807,1745.32781773257,1822.0625325841975,1900.59242581742,1980.9271260617752,2063.0763309696995,2147.049807961288,2232.8573949800775,2320.5090012594665,2410.014608100457,2501.3842696607826,2594.6281137555197,2689.756342669476,2786.7792339814987,2885.7071414012244,2986.550495618103,3089.319805163119,3194.0256572832513,3300.678718829542,3409.2897371580475,3519.8695410448854,3632.4290416146905,3746.9792332839424,3863.531194717987,3982.0960898033372,4102.685168634824,4225.309768517895,4349.981314986704,4476.711322838179,4605.511397181952,4736.3932345072535,4869.368623766357,5004.4494474754465,5141.647682832729,5280.975402854958,5422.444777531469,5566.068074997602,5711.857662726616,5859.826008741184,6009.9856828445045,6162.3493578719135,6316.929810962749,6473.739924853449,6632.792689192036,6794.101201874575,6957.678670403853,7123.538413271082,7291.693861360793,7462.158559379568,7634.946167309208,7810.070461884454,7987.545338096468,8167.384810721829],\"type\":\"scatter\"},{\"marker\":{\"color\":\"red\",\"size\":10},\"mode\":\"markers\",\"name\":\"y(30) = 8167.4 m\",\"x\":[30],\"y\":[8167.384810721829],\"type\":\"scatter\"}],                        {\"template\":{\"data\":{\"barpolar\":[{\"marker\":{\"line\":{\"color\":\"white\",\"width\":0.5},\"pattern\":{\"fillmode\":\"overlay\",\"size\":10,\"solidity\":0.2}},\"type\":\"barpolar\"}],\"bar\":[{\"error_x\":{\"color\":\"#2a3f5f\"},\"error_y\":{\"color\":\"#2a3f5f\"},\"marker\":{\"line\":{\"color\":\"white\",\"width\":0.5},\"pattern\":{\"fillmode\":\"overlay\",\"size\":10,\"solidity\":0.2}},\"type\":\"bar\"}],\"carpet\":[{\"aaxis\":{\"endlinecolor\":\"#2a3f5f\",\"gridcolor\":\"#C8D4E3\",\"linecolor\":\"#C8D4E3\",\"minorgridcolor\":\"#C8D4E3\",\"startlinecolor\":\"#2a3f5f\"},\"baxis\":{\"endlinecolor\":\"#2a3f5f\",\"gridcolor\":\"#C8D4E3\",\"linecolor\":\"#C8D4E3\",\"minorgridcolor\":\"#C8D4E3\",\"startlinecolor\":\"#2a3f5f\"},\"type\":\"carpet\"}],\"choropleth\":[{\"colorbar\":{\"outlinewidth\":0,\"ticks\":\"\"},\"type\":\"choropleth\"}],\"contourcarpet\":[{\"colorbar\":{\"outlinewidth\":0,\"ticks\":\"\"},\"type\":\"contourcarpet\"}],\"contour\":[{\"colorbar\":{\"outlinewidth\":0,\"ticks\":\"\"},\"colorscale\":[[0.0,\"#0d0887\"],[0.1111111111111111,\"#46039f\"],[0.2222222222222222,\"#7201a8\"],[0.3333333333333333,\"#9c179e\"],[0.4444444444444444,\"#bd3786\"],[0.5555555555555556,\"#d8576b\"],[0.6666666666666666,\"#ed7953\"],[0.7777777777777778,\"#fb9f3a\"],[0.8888888888888888,\"#fdca26\"],[1.0,\"#f0f921\"]],\"type\":\"contour\"}],\"heatmapgl\":[{\"colorbar\":{\"outlinewidth\":0,\"ticks\":\"\"},\"colorscale\":[[0.0,\"#0d0887\"],[0.1111111111111111,\"#46039f\"],[0.2222222222222222,\"#7201a8\"],[0.3333333333333333,\"#9c179e\"],[0.4444444444444444,\"#bd3786\"],[0.5555555555555556,\"#d8576b\"],[0.6666666666666666,\"#ed7953\"],[0.7777777777777778,\"#fb9f3a\"],[0.8888888888888888,\"#fdca26\"],[1.0,\"#f0f921\"]],\"type\":\"heatmapgl\"}],\"heatmap\":[{\"colorbar\":{\"outlinewidth\":0,\"ticks\":\"\"},\"colorscale\":[[0.0,\"#0d0887\"],[0.1111111111111111,\"#46039f\"],[0.2222222222222222,\"#7201a8\"],[0.3333333333333333,\"#9c179e\"],[0.4444444444444444,\"#bd3786\"],[0.5555555555555556,\"#d8576b\"],[0.6666666666666666,\"#ed7953\"],[0.7777777777777778,\"#fb9f3a\"],[0.8888888888888888,\"#fdca26\"],[1.0,\"#f0f921\"]],\"type\":\"heatmap\"}],\"histogram2dcontour\":[{\"colorbar\":{\"outlinewidth\":0,\"ticks\":\"\"},\"colorscale\":[[0.0,\"#0d0887\"],[0.1111111111111111,\"#46039f\"],[0.2222222222222222,\"#7201a8\"],[0.3333333333333333,\"#9c179e\"],[0.4444444444444444,\"#bd3786\"],[0.5555555555555556,\"#d8576b\"],[0.6666666666666666,\"#ed7953\"],[0.7777777777777778,\"#fb9f3a\"],[0.8888888888888888,\"#fdca26\"],[1.0,\"#f0f921\"]],\"type\":\"histogram2dcontour\"}],\"histogram2d\":[{\"colorbar\":{\"outlinewidth\":0,\"ticks\":\"\"},\"colorscale\":[[0.0,\"#0d0887\"],[0.1111111111111111,\"#46039f\"],[0.2222222222222222,\"#7201a8\"],[0.3333333333333333,\"#9c179e\"],[0.4444444444444444,\"#bd3786\"],[0.5555555555555556,\"#d8576b\"],[0.6666666666666666,\"#ed7953\"],[0.7777777777777778,\"#fb9f3a\"],[0.8888888888888888,\"#fdca26\"],[1.0,\"#f0f921\"]],\"type\":\"histogram2d\"}],\"histogram\":[{\"marker\":{\"pattern\":{\"fillmode\":\"overlay\",\"size\":10,\"solidity\":0.2}},\"type\":\"histogram\"}],\"mesh3d\":[{\"colorbar\":{\"outlinewidth\":0,\"ticks\":\"\"},\"type\":\"mesh3d\"}],\"parcoords\":[{\"line\":{\"colorbar\":{\"outlinewidth\":0,\"ticks\":\"\"}},\"type\":\"parcoords\"}],\"pie\":[{\"automargin\":true,\"type\":\"pie\"}],\"scatter3d\":[{\"line\":{\"colorbar\":{\"outlinewidth\":0,\"ticks\":\"\"}},\"marker\":{\"colorbar\":{\"outlinewidth\":0,\"ticks\":\"\"}},\"type\":\"scatter3d\"}],\"scattercarpet\":[{\"marker\":{\"colorbar\":{\"outlinewidth\":0,\"ticks\":\"\"}},\"type\":\"scattercarpet\"}],\"scattergeo\":[{\"marker\":{\"colorbar\":{\"outlinewidth\":0,\"ticks\":\"\"}},\"type\":\"scattergeo\"}],\"scattergl\":[{\"marker\":{\"colorbar\":{\"outlinewidth\":0,\"ticks\":\"\"}},\"type\":\"scattergl\"}],\"scattermapbox\":[{\"marker\":{\"colorbar\":{\"outlinewidth\":0,\"ticks\":\"\"}},\"type\":\"scattermapbox\"}],\"scatterpolargl\":[{\"marker\":{\"colorbar\":{\"outlinewidth\":0,\"ticks\":\"\"}},\"type\":\"scatterpolargl\"}],\"scatterpolar\":[{\"marker\":{\"colorbar\":{\"outlinewidth\":0,\"ticks\":\"\"}},\"type\":\"scatterpolar\"}],\"scatter\":[{\"fillpattern\":{\"fillmode\":\"overlay\",\"size\":10,\"solidity\":0.2},\"type\":\"scatter\"}],\"scatterternary\":[{\"marker\":{\"colorbar\":{\"outlinewidth\":0,\"ticks\":\"\"}},\"type\":\"scatterternary\"}],\"surface\":[{\"colorbar\":{\"outlinewidth\":0,\"ticks\":\"\"},\"colorscale\":[[0.0,\"#0d0887\"],[0.1111111111111111,\"#46039f\"],[0.2222222222222222,\"#7201a8\"],[0.3333333333333333,\"#9c179e\"],[0.4444444444444444,\"#bd3786\"],[0.5555555555555556,\"#d8576b\"],[0.6666666666666666,\"#ed7953\"],[0.7777777777777778,\"#fb9f3a\"],[0.8888888888888888,\"#fdca26\"],[1.0,\"#f0f921\"]],\"type\":\"surface\"}],\"table\":[{\"cells\":{\"fill\":{\"color\":\"#EBF0F8\"},\"line\":{\"color\":\"white\"}},\"header\":{\"fill\":{\"color\":\"#C8D4E3\"},\"line\":{\"color\":\"white\"}},\"type\":\"table\"}]},\"layout\":{\"annotationdefaults\":{\"arrowcolor\":\"#2a3f5f\",\"arrowhead\":0,\"arrowwidth\":1},\"autotypenumbers\":\"strict\",\"coloraxis\":{\"colorbar\":{\"outlinewidth\":0,\"ticks\":\"\"}},\"colorscale\":{\"diverging\":[[0,\"#8e0152\"],[0.1,\"#c51b7d\"],[0.2,\"#de77ae\"],[0.3,\"#f1b6da\"],[0.4,\"#fde0ef\"],[0.5,\"#f7f7f7\"],[0.6,\"#e6f5d0\"],[0.7,\"#b8e186\"],[0.8,\"#7fbc41\"],[0.9,\"#4d9221\"],[1,\"#276419\"]],\"sequential\":[[0.0,\"#0d0887\"],[0.1111111111111111,\"#46039f\"],[0.2222222222222222,\"#7201a8\"],[0.3333333333333333,\"#9c179e\"],[0.4444444444444444,\"#bd3786\"],[0.5555555555555556,\"#d8576b\"],[0.6666666666666666,\"#ed7953\"],[0.7777777777777778,\"#fb9f3a\"],[0.8888888888888888,\"#fdca26\"],[1.0,\"#f0f921\"]],\"sequentialminus\":[[0.0,\"#0d0887\"],[0.1111111111111111,\"#46039f\"],[0.2222222222222222,\"#7201a8\"],[0.3333333333333333,\"#9c179e\"],[0.4444444444444444,\"#bd3786\"],[0.5555555555555556,\"#d8576b\"],[0.6666666666666666,\"#ed7953\"],[0.7777777777777778,\"#fb9f3a\"],[0.8888888888888888,\"#fdca26\"],[1.0,\"#f0f921\"]]},\"colorway\":[\"#636efa\",\"#EF553B\",\"#00cc96\",\"#ab63fa\",\"#FFA15A\",\"#19d3f3\",\"#FF6692\",\"#B6E880\",\"#FF97FF\",\"#FECB52\"],\"font\":{\"color\":\"#2a3f5f\"},\"geo\":{\"bgcolor\":\"white\",\"lakecolor\":\"white\",\"landcolor\":\"white\",\"showlakes\":true,\"showland\":true,\"subunitcolor\":\"#C8D4E3\"},\"hoverlabel\":{\"align\":\"left\"},\"hovermode\":\"closest\",\"mapbox\":{\"style\":\"light\"},\"paper_bgcolor\":\"white\",\"plot_bgcolor\":\"white\",\"polar\":{\"angularaxis\":{\"gridcolor\":\"#EBF0F8\",\"linecolor\":\"#EBF0F8\",\"ticks\":\"\"},\"bgcolor\":\"white\",\"radialaxis\":{\"gridcolor\":\"#EBF0F8\",\"linecolor\":\"#EBF0F8\",\"ticks\":\"\"}},\"scene\":{\"xaxis\":{\"backgroundcolor\":\"white\",\"gridcolor\":\"#DFE8F3\",\"gridwidth\":2,\"linecolor\":\"#EBF0F8\",\"showbackground\":true,\"ticks\":\"\",\"zerolinecolor\":\"#EBF0F8\"},\"yaxis\":{\"backgroundcolor\":\"white\",\"gridcolor\":\"#DFE8F3\",\"gridwidth\":2,\"linecolor\":\"#EBF0F8\",\"showbackground\":true,\"ticks\":\"\",\"zerolinecolor\":\"#EBF0F8\"},\"zaxis\":{\"backgroundcolor\":\"white\",\"gridcolor\":\"#DFE8F3\",\"gridwidth\":2,\"linecolor\":\"#EBF0F8\",\"showbackground\":true,\"ticks\":\"\",\"zerolinecolor\":\"#EBF0F8\"}},\"shapedefaults\":{\"line\":{\"color\":\"#2a3f5f\"}},\"ternary\":{\"aaxis\":{\"gridcolor\":\"#DFE8F3\",\"linecolor\":\"#A2B1C6\",\"ticks\":\"\"},\"baxis\":{\"gridcolor\":\"#DFE8F3\",\"linecolor\":\"#A2B1C6\",\"ticks\":\"\"},\"bgcolor\":\"white\",\"caxis\":{\"gridcolor\":\"#DFE8F3\",\"linecolor\":\"#A2B1C6\",\"ticks\":\"\"}},\"title\":{\"x\":0.05},\"xaxis\":{\"automargin\":true,\"gridcolor\":\"#EBF0F8\",\"linecolor\":\"#EBF0F8\",\"ticks\":\"\",\"title\":{\"standoff\":15},\"zerolinecolor\":\"#EBF0F8\",\"zerolinewidth\":2},\"yaxis\":{\"automargin\":true,\"gridcolor\":\"#EBF0F8\",\"linecolor\":\"#EBF0F8\",\"ticks\":\"\",\"title\":{\"standoff\":15},\"zerolinecolor\":\"#EBF0F8\",\"zerolinewidth\":2}}},\"title\":{\"text\":\"Posición del cohete en función del tiempo\"},\"xaxis\":{\"title\":{\"text\":\"Tiempo (s)\"}},\"yaxis\":{\"title\":{\"text\":\"Altura (m)\"}},\"hovermode\":\"x\"},                        {\"responsive\": true}                    ).then(function(){\n",
              "                            \n",
              "var gd = document.getElementById('6a0c0459-760d-4ff1-8d44-febd1d20be08');\n",
              "var x = new MutationObserver(function (mutations, observer) {{\n",
              "        var display = window.getComputedStyle(gd).display;\n",
              "        if (!display || display === 'none') {{\n",
              "            console.log([gd, 'removed!']);\n",
              "            Plotly.purge(gd);\n",
              "            observer.disconnect();\n",
              "        }}\n",
              "}});\n",
              "\n",
              "// Listen for the removal of the full notebook cells\n",
              "var notebookContainer = gd.closest('#notebook-container');\n",
              "if (notebookContainer) {{\n",
              "    x.observe(notebookContainer, {childList: true});\n",
              "}}\n",
              "\n",
              "// Listen for the clearing of the current output cell\n",
              "var outputEl = gd.closest('.output');\n",
              "if (outputEl) {{\n",
              "    x.observe(outputEl, {childList: true});\n",
              "}}\n",
              "\n",
              "                        })                };                            </script>        </div>\n",
              "</body>\n",
              "</html>"
            ]
          },
          "metadata": {}
        }
      ]
    }
  ]
}